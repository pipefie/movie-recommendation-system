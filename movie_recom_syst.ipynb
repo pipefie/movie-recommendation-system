{
 "cells": [
  {
   "attachments": {},
   "cell_type": "markdown",
   "metadata": {},
   "source": [
    "# Movie Recommendation System (1M)"
   ]
  },
  {
   "attachments": {},
   "cell_type": "markdown",
   "metadata": {},
   "source": [
    "## Initial library load "
   ]
  },
  {
   "cell_type": "code",
   "execution_count": 23,
   "metadata": {},
   "outputs": [],
   "source": [
    "import torch\n",
    "import torch.nn as nn\n",
    "import torch.optim as optim\n",
    "from torch.utils.tensorboard import SummaryWriter\n",
    "from torch.utils.data import TensorDataset, DataLoader\n",
    "from sklearn.datasets import fetch_california_housing\n",
    "from sklearn.model_selection import train_test_split\n",
    "from sklearn.preprocessing import StandardScaler\n",
    "import matplotlib.pyplot as plt\n",
    "import numpy as np\n",
    "import pandas as pd\n",
    "import seaborn as sns\n",
    "import random\n",
    "from datetime import datetime\n",
    "from unidecode import unidecode"
   ]
  },
  {
   "cell_type": "code",
   "execution_count": 3,
   "metadata": {},
   "outputs": [],
   "source": [
    "device = torch.device(\"cuda\" if torch.cuda.is_available() else \"cpu\")"
   ]
  },
  {
   "cell_type": "code",
   "execution_count": 4,
   "metadata": {},
   "outputs": [
    {
     "data": {
      "text/plain": [
       "<torch._C.Generator at 0x7fc9141fefd0>"
      ]
     },
     "execution_count": 4,
     "metadata": {},
     "output_type": "execute_result"
    }
   ],
   "source": [
    "seed = 42\n",
    "random.seed(seed)\n",
    "np.random.seed(seed)\n",
    "torch.manual_seed(seed)"
   ]
  },
  {
   "cell_type": "code",
   "execution_count": 5,
   "metadata": {},
   "outputs": [],
   "source": [
    "writer = SummaryWriter()  "
   ]
  },
  {
   "attachments": {},
   "cell_type": "markdown",
   "metadata": {},
   "source": [
    "## Data load"
   ]
  },
  {
   "cell_type": "code",
   "execution_count": 6,
   "metadata": {},
   "outputs": [],
   "source": [
    "ratings = pd.read_csv(\"./ml-1m/ratings.dat\", sep=\"::\", header=None,\n",
    "                      names=['UserID','MovieID','Rating','Timestamp'], engine=\"python\")"
   ]
  },
  {
   "cell_type": "code",
   "execution_count": 17,
   "metadata": {},
   "outputs": [],
   "source": [
    "# convert timestamp to datetime\n",
    "ratings['Datetime'] = ratings['Timestamp'].apply(lambda ts: datetime.fromtimestamp(ts))"
   ]
  },
  {
   "cell_type": "code",
   "execution_count": 18,
   "metadata": {},
   "outputs": [
    {
     "data": {
      "application/vnd.microsoft.datawrangler.viewer.v0+json": {
       "columns": [
        {
         "name": "index",
         "rawType": "int64",
         "type": "integer"
        },
        {
         "name": "UserID",
         "rawType": "int64",
         "type": "integer"
        },
        {
         "name": "MovieID",
         "rawType": "int64",
         "type": "integer"
        },
        {
         "name": "Rating",
         "rawType": "int64",
         "type": "integer"
        },
        {
         "name": "Timestamp",
         "rawType": "int64",
         "type": "integer"
        },
        {
         "name": "Datetime",
         "rawType": "datetime64[ns]",
         "type": "datetime"
        }
       ],
       "conversionMethod": "pd.DataFrame",
       "ref": "0c22a11d-09f5-4ecf-8e30-2d5810850882",
       "rows": [
        [
         "0",
         "1",
         "1193",
         "5",
         "978300760",
         "2000-12-31 23:12:40"
        ],
        [
         "1",
         "1",
         "661",
         "3",
         "978302109",
         "2000-12-31 23:35:09"
        ],
        [
         "2",
         "1",
         "914",
         "3",
         "978301968",
         "2000-12-31 23:32:48"
        ],
        [
         "3",
         "1",
         "3408",
         "4",
         "978300275",
         "2000-12-31 23:04:35"
        ],
        [
         "4",
         "1",
         "2355",
         "5",
         "978824291",
         "2001-01-07 00:38:11"
        ],
        [
         "5",
         "1",
         "1197",
         "3",
         "978302268",
         "2000-12-31 23:37:48"
        ],
        [
         "6",
         "1",
         "1287",
         "5",
         "978302039",
         "2000-12-31 23:33:59"
        ],
        [
         "7",
         "1",
         "2804",
         "5",
         "978300719",
         "2000-12-31 23:11:59"
        ],
        [
         "8",
         "1",
         "594",
         "4",
         "978302268",
         "2000-12-31 23:37:48"
        ],
        [
         "9",
         "1",
         "919",
         "4",
         "978301368",
         "2000-12-31 23:22:48"
        ]
       ],
       "shape": {
        "columns": 5,
        "rows": 10
       }
      },
      "text/html": [
       "<div>\n",
       "<style scoped>\n",
       "    .dataframe tbody tr th:only-of-type {\n",
       "        vertical-align: middle;\n",
       "    }\n",
       "\n",
       "    .dataframe tbody tr th {\n",
       "        vertical-align: top;\n",
       "    }\n",
       "\n",
       "    .dataframe thead th {\n",
       "        text-align: right;\n",
       "    }\n",
       "</style>\n",
       "<table border=\"1\" class=\"dataframe\">\n",
       "  <thead>\n",
       "    <tr style=\"text-align: right;\">\n",
       "      <th></th>\n",
       "      <th>UserID</th>\n",
       "      <th>MovieID</th>\n",
       "      <th>Rating</th>\n",
       "      <th>Timestamp</th>\n",
       "      <th>Datetime</th>\n",
       "    </tr>\n",
       "  </thead>\n",
       "  <tbody>\n",
       "    <tr>\n",
       "      <th>0</th>\n",
       "      <td>1</td>\n",
       "      <td>1193</td>\n",
       "      <td>5</td>\n",
       "      <td>978300760</td>\n",
       "      <td>2000-12-31 23:12:40</td>\n",
       "    </tr>\n",
       "    <tr>\n",
       "      <th>1</th>\n",
       "      <td>1</td>\n",
       "      <td>661</td>\n",
       "      <td>3</td>\n",
       "      <td>978302109</td>\n",
       "      <td>2000-12-31 23:35:09</td>\n",
       "    </tr>\n",
       "    <tr>\n",
       "      <th>2</th>\n",
       "      <td>1</td>\n",
       "      <td>914</td>\n",
       "      <td>3</td>\n",
       "      <td>978301968</td>\n",
       "      <td>2000-12-31 23:32:48</td>\n",
       "    </tr>\n",
       "    <tr>\n",
       "      <th>3</th>\n",
       "      <td>1</td>\n",
       "      <td>3408</td>\n",
       "      <td>4</td>\n",
       "      <td>978300275</td>\n",
       "      <td>2000-12-31 23:04:35</td>\n",
       "    </tr>\n",
       "    <tr>\n",
       "      <th>4</th>\n",
       "      <td>1</td>\n",
       "      <td>2355</td>\n",
       "      <td>5</td>\n",
       "      <td>978824291</td>\n",
       "      <td>2001-01-07 00:38:11</td>\n",
       "    </tr>\n",
       "    <tr>\n",
       "      <th>5</th>\n",
       "      <td>1</td>\n",
       "      <td>1197</td>\n",
       "      <td>3</td>\n",
       "      <td>978302268</td>\n",
       "      <td>2000-12-31 23:37:48</td>\n",
       "    </tr>\n",
       "    <tr>\n",
       "      <th>6</th>\n",
       "      <td>1</td>\n",
       "      <td>1287</td>\n",
       "      <td>5</td>\n",
       "      <td>978302039</td>\n",
       "      <td>2000-12-31 23:33:59</td>\n",
       "    </tr>\n",
       "    <tr>\n",
       "      <th>7</th>\n",
       "      <td>1</td>\n",
       "      <td>2804</td>\n",
       "      <td>5</td>\n",
       "      <td>978300719</td>\n",
       "      <td>2000-12-31 23:11:59</td>\n",
       "    </tr>\n",
       "    <tr>\n",
       "      <th>8</th>\n",
       "      <td>1</td>\n",
       "      <td>594</td>\n",
       "      <td>4</td>\n",
       "      <td>978302268</td>\n",
       "      <td>2000-12-31 23:37:48</td>\n",
       "    </tr>\n",
       "    <tr>\n",
       "      <th>9</th>\n",
       "      <td>1</td>\n",
       "      <td>919</td>\n",
       "      <td>4</td>\n",
       "      <td>978301368</td>\n",
       "      <td>2000-12-31 23:22:48</td>\n",
       "    </tr>\n",
       "  </tbody>\n",
       "</table>\n",
       "</div>"
      ],
      "text/plain": [
       "   UserID  MovieID  Rating  Timestamp            Datetime\n",
       "0       1     1193       5  978300760 2000-12-31 23:12:40\n",
       "1       1      661       3  978302109 2000-12-31 23:35:09\n",
       "2       1      914       3  978301968 2000-12-31 23:32:48\n",
       "3       1     3408       4  978300275 2000-12-31 23:04:35\n",
       "4       1     2355       5  978824291 2001-01-07 00:38:11\n",
       "5       1     1197       3  978302268 2000-12-31 23:37:48\n",
       "6       1     1287       5  978302039 2000-12-31 23:33:59\n",
       "7       1     2804       5  978300719 2000-12-31 23:11:59\n",
       "8       1      594       4  978302268 2000-12-31 23:37:48\n",
       "9       1      919       4  978301368 2000-12-31 23:22:48"
      ]
     },
     "execution_count": 18,
     "metadata": {},
     "output_type": "execute_result"
    }
   ],
   "source": [
    "ratings.head(10)"
   ]
  },
  {
   "cell_type": "code",
   "execution_count": 8,
   "metadata": {},
   "outputs": [],
   "source": [
    "movies = pd.read_csv(\"./ml-1m/movies.dat\", sep=\"::\", header=None,\n",
    "                     names=['MovieID','Title','Genre'], engine=\"python\",\n",
    "                    encoding=\"utf-8\",\n",
    "                    lineterminator=\"\\n\",\n",
    "                    on_bad_lines=\"skip\")"
   ]
  },
  {
   "cell_type": "code",
   "execution_count": 9,
   "metadata": {},
   "outputs": [
    {
     "data": {
      "application/vnd.microsoft.datawrangler.viewer.v0+json": {
       "columns": [
        {
         "name": "index",
         "rawType": "int64",
         "type": "integer"
        },
        {
         "name": "MovieID",
         "rawType": "int64",
         "type": "integer"
        },
        {
         "name": "Title",
         "rawType": "object",
         "type": "string"
        },
        {
         "name": "Genre",
         "rawType": "object",
         "type": "string"
        }
       ],
       "conversionMethod": "pd.DataFrame",
       "ref": "b5c1d077-dce7-40b4-a7c0-75ad2f4d7127",
       "rows": [
        [
         "0",
         "1",
         "Toy Story (1995)",
         "Animation|Children's|Comedy"
        ],
        [
         "1",
         "2",
         "Jumanji (1995)",
         "Adventure|Children's|Fantasy"
        ],
        [
         "2",
         "3",
         "Grumpier Old Men (1995)",
         "Comedy|Romance"
        ],
        [
         "3",
         "4",
         "Waiting to Exhale (1995)",
         "Comedy|Drama"
        ],
        [
         "4",
         "5",
         "Father of the Bride Part II (1995)",
         "Comedy"
        ],
        [
         "5",
         "6",
         "Heat (1995)",
         "Action|Crime|Thriller"
        ],
        [
         "6",
         "7",
         "Sabrina (1995)",
         "Comedy|Romance"
        ],
        [
         "7",
         "8",
         "Tom and Huck (1995)",
         "Adventure|Children's"
        ],
        [
         "8",
         "9",
         "Sudden Death (1995)",
         "Action"
        ],
        [
         "9",
         "10",
         "GoldenEye (1995)",
         "Action|Adventure|Thriller"
        ],
        [
         "10",
         "11",
         "American President, The (1995)",
         "Comedy|Drama|Romance"
        ],
        [
         "11",
         "12",
         "Dracula: Dead and Loving It (1995)",
         "Comedy|Horror"
        ],
        [
         "12",
         "13",
         "Balto (1995)",
         "Animation|Children's"
        ],
        [
         "13",
         "14",
         "Nixon (1995)",
         "Drama"
        ],
        [
         "14",
         "15",
         "Cutthroat Island (1995)",
         "Action|Adventure|Romance"
        ],
        [
         "15",
         "16",
         "Casino (1995)",
         "Drama|Thriller"
        ],
        [
         "16",
         "17",
         "Sense and Sensibility (1995)",
         "Drama|Romance"
        ],
        [
         "17",
         "18",
         "Four Rooms (1995)",
         "Thriller"
        ],
        [
         "18",
         "19",
         "Ace Ventura: When Nature Calls (1995)",
         "Comedy"
        ],
        [
         "19",
         "20",
         "Money Train (1995)",
         "Action"
        ]
       ],
       "shape": {
        "columns": 3,
        "rows": 20
       }
      },
      "text/html": [
       "<div>\n",
       "<style scoped>\n",
       "    .dataframe tbody tr th:only-of-type {\n",
       "        vertical-align: middle;\n",
       "    }\n",
       "\n",
       "    .dataframe tbody tr th {\n",
       "        vertical-align: top;\n",
       "    }\n",
       "\n",
       "    .dataframe thead th {\n",
       "        text-align: right;\n",
       "    }\n",
       "</style>\n",
       "<table border=\"1\" class=\"dataframe\">\n",
       "  <thead>\n",
       "    <tr style=\"text-align: right;\">\n",
       "      <th></th>\n",
       "      <th>MovieID</th>\n",
       "      <th>Title</th>\n",
       "      <th>Genre</th>\n",
       "    </tr>\n",
       "  </thead>\n",
       "  <tbody>\n",
       "    <tr>\n",
       "      <th>0</th>\n",
       "      <td>1</td>\n",
       "      <td>Toy Story (1995)</td>\n",
       "      <td>Animation|Children's|Comedy</td>\n",
       "    </tr>\n",
       "    <tr>\n",
       "      <th>1</th>\n",
       "      <td>2</td>\n",
       "      <td>Jumanji (1995)</td>\n",
       "      <td>Adventure|Children's|Fantasy</td>\n",
       "    </tr>\n",
       "    <tr>\n",
       "      <th>2</th>\n",
       "      <td>3</td>\n",
       "      <td>Grumpier Old Men (1995)</td>\n",
       "      <td>Comedy|Romance</td>\n",
       "    </tr>\n",
       "    <tr>\n",
       "      <th>3</th>\n",
       "      <td>4</td>\n",
       "      <td>Waiting to Exhale (1995)</td>\n",
       "      <td>Comedy|Drama</td>\n",
       "    </tr>\n",
       "    <tr>\n",
       "      <th>4</th>\n",
       "      <td>5</td>\n",
       "      <td>Father of the Bride Part II (1995)</td>\n",
       "      <td>Comedy</td>\n",
       "    </tr>\n",
       "    <tr>\n",
       "      <th>5</th>\n",
       "      <td>6</td>\n",
       "      <td>Heat (1995)</td>\n",
       "      <td>Action|Crime|Thriller</td>\n",
       "    </tr>\n",
       "    <tr>\n",
       "      <th>6</th>\n",
       "      <td>7</td>\n",
       "      <td>Sabrina (1995)</td>\n",
       "      <td>Comedy|Romance</td>\n",
       "    </tr>\n",
       "    <tr>\n",
       "      <th>7</th>\n",
       "      <td>8</td>\n",
       "      <td>Tom and Huck (1995)</td>\n",
       "      <td>Adventure|Children's</td>\n",
       "    </tr>\n",
       "    <tr>\n",
       "      <th>8</th>\n",
       "      <td>9</td>\n",
       "      <td>Sudden Death (1995)</td>\n",
       "      <td>Action</td>\n",
       "    </tr>\n",
       "    <tr>\n",
       "      <th>9</th>\n",
       "      <td>10</td>\n",
       "      <td>GoldenEye (1995)</td>\n",
       "      <td>Action|Adventure|Thriller</td>\n",
       "    </tr>\n",
       "    <tr>\n",
       "      <th>10</th>\n",
       "      <td>11</td>\n",
       "      <td>American President, The (1995)</td>\n",
       "      <td>Comedy|Drama|Romance</td>\n",
       "    </tr>\n",
       "    <tr>\n",
       "      <th>11</th>\n",
       "      <td>12</td>\n",
       "      <td>Dracula: Dead and Loving It (1995)</td>\n",
       "      <td>Comedy|Horror</td>\n",
       "    </tr>\n",
       "    <tr>\n",
       "      <th>12</th>\n",
       "      <td>13</td>\n",
       "      <td>Balto (1995)</td>\n",
       "      <td>Animation|Children's</td>\n",
       "    </tr>\n",
       "    <tr>\n",
       "      <th>13</th>\n",
       "      <td>14</td>\n",
       "      <td>Nixon (1995)</td>\n",
       "      <td>Drama</td>\n",
       "    </tr>\n",
       "    <tr>\n",
       "      <th>14</th>\n",
       "      <td>15</td>\n",
       "      <td>Cutthroat Island (1995)</td>\n",
       "      <td>Action|Adventure|Romance</td>\n",
       "    </tr>\n",
       "    <tr>\n",
       "      <th>15</th>\n",
       "      <td>16</td>\n",
       "      <td>Casino (1995)</td>\n",
       "      <td>Drama|Thriller</td>\n",
       "    </tr>\n",
       "    <tr>\n",
       "      <th>16</th>\n",
       "      <td>17</td>\n",
       "      <td>Sense and Sensibility (1995)</td>\n",
       "      <td>Drama|Romance</td>\n",
       "    </tr>\n",
       "    <tr>\n",
       "      <th>17</th>\n",
       "      <td>18</td>\n",
       "      <td>Four Rooms (1995)</td>\n",
       "      <td>Thriller</td>\n",
       "    </tr>\n",
       "    <tr>\n",
       "      <th>18</th>\n",
       "      <td>19</td>\n",
       "      <td>Ace Ventura: When Nature Calls (1995)</td>\n",
       "      <td>Comedy</td>\n",
       "    </tr>\n",
       "    <tr>\n",
       "      <th>19</th>\n",
       "      <td>20</td>\n",
       "      <td>Money Train (1995)</td>\n",
       "      <td>Action</td>\n",
       "    </tr>\n",
       "  </tbody>\n",
       "</table>\n",
       "</div>"
      ],
      "text/plain": [
       "    MovieID                                  Title  \\\n",
       "0         1                       Toy Story (1995)   \n",
       "1         2                         Jumanji (1995)   \n",
       "2         3                Grumpier Old Men (1995)   \n",
       "3         4               Waiting to Exhale (1995)   \n",
       "4         5     Father of the Bride Part II (1995)   \n",
       "5         6                            Heat (1995)   \n",
       "6         7                         Sabrina (1995)   \n",
       "7         8                    Tom and Huck (1995)   \n",
       "8         9                    Sudden Death (1995)   \n",
       "9        10                       GoldenEye (1995)   \n",
       "10       11         American President, The (1995)   \n",
       "11       12     Dracula: Dead and Loving It (1995)   \n",
       "12       13                           Balto (1995)   \n",
       "13       14                           Nixon (1995)   \n",
       "14       15                Cutthroat Island (1995)   \n",
       "15       16                          Casino (1995)   \n",
       "16       17           Sense and Sensibility (1995)   \n",
       "17       18                      Four Rooms (1995)   \n",
       "18       19  Ace Ventura: When Nature Calls (1995)   \n",
       "19       20                     Money Train (1995)   \n",
       "\n",
       "                           Genre  \n",
       "0    Animation|Children's|Comedy  \n",
       "1   Adventure|Children's|Fantasy  \n",
       "2                 Comedy|Romance  \n",
       "3                   Comedy|Drama  \n",
       "4                         Comedy  \n",
       "5          Action|Crime|Thriller  \n",
       "6                 Comedy|Romance  \n",
       "7           Adventure|Children's  \n",
       "8                         Action  \n",
       "9      Action|Adventure|Thriller  \n",
       "10          Comedy|Drama|Romance  \n",
       "11                 Comedy|Horror  \n",
       "12          Animation|Children's  \n",
       "13                         Drama  \n",
       "14      Action|Adventure|Romance  \n",
       "15                Drama|Thriller  \n",
       "16                 Drama|Romance  \n",
       "17                      Thriller  \n",
       "18                        Comedy  \n",
       "19                        Action  "
      ]
     },
     "execution_count": 9,
     "metadata": {},
     "output_type": "execute_result"
    }
   ],
   "source": [
    "movies.head(20)"
   ]
  },
  {
   "cell_type": "code",
   "execution_count": 29,
   "metadata": {},
   "outputs": [],
   "source": [
    "movies_norm = movies.copy()"
   ]
  },
  {
   "cell_type": "code",
   "execution_count": 30,
   "metadata": {},
   "outputs": [],
   "source": [
    "movies_norm['Title'] = movies_norm['Title'].apply(lambda x: unidecode(x))"
   ]
  },
  {
   "cell_type": "code",
   "execution_count": 32,
   "metadata": {},
   "outputs": [],
   "source": [
    "movies_norm['Genre_List'] = movies_norm['Genre'].apply(lambda x: x.split('|'))"
   ]
  },
  {
   "cell_type": "code",
   "execution_count": 33,
   "metadata": {},
   "outputs": [
    {
     "data": {
      "application/vnd.microsoft.datawrangler.viewer.v0+json": {
       "columns": [
        {
         "name": "index",
         "rawType": "int64",
         "type": "integer"
        },
        {
         "name": "MovieID",
         "rawType": "int64",
         "type": "integer"
        },
        {
         "name": "Title",
         "rawType": "object",
         "type": "string"
        },
        {
         "name": "Genre",
         "rawType": "object",
         "type": "string"
        },
        {
         "name": "Genre_List",
         "rawType": "object",
         "type": "unknown"
        }
       ],
       "conversionMethod": "pd.DataFrame",
       "ref": "208cc5f3-62b7-4eb1-9314-1487cfcefa34",
       "rows": [
        [
         "0",
         "1",
         "Toy Story (1995)",
         "Animation|Children's|Comedy",
         "['Animation', \"Children's\", 'Comedy']"
        ],
        [
         "1",
         "2",
         "Jumanji (1995)",
         "Adventure|Children's|Fantasy",
         "['Adventure', \"Children's\", 'Fantasy']"
        ],
        [
         "2",
         "3",
         "Grumpier Old Men (1995)",
         "Comedy|Romance",
         "['Comedy', 'Romance']"
        ],
        [
         "3",
         "4",
         "Waiting to Exhale (1995)",
         "Comedy|Drama",
         "['Comedy', 'Drama']"
        ],
        [
         "4",
         "5",
         "Father of the Bride Part II (1995)",
         "Comedy",
         "['Comedy']"
        ],
        [
         "5",
         "6",
         "Heat (1995)",
         "Action|Crime|Thriller",
         "['Action', 'Crime', 'Thriller']"
        ],
        [
         "6",
         "7",
         "Sabrina (1995)",
         "Comedy|Romance",
         "['Comedy', 'Romance']"
        ],
        [
         "7",
         "8",
         "Tom and Huck (1995)",
         "Adventure|Children's",
         "['Adventure', \"Children's\"]"
        ],
        [
         "8",
         "9",
         "Sudden Death (1995)",
         "Action",
         "['Action']"
        ],
        [
         "9",
         "10",
         "GoldenEye (1995)",
         "Action|Adventure|Thriller",
         "['Action', 'Adventure', 'Thriller']"
        ]
       ],
       "shape": {
        "columns": 4,
        "rows": 10
       }
      },
      "text/html": [
       "<div>\n",
       "<style scoped>\n",
       "    .dataframe tbody tr th:only-of-type {\n",
       "        vertical-align: middle;\n",
       "    }\n",
       "\n",
       "    .dataframe tbody tr th {\n",
       "        vertical-align: top;\n",
       "    }\n",
       "\n",
       "    .dataframe thead th {\n",
       "        text-align: right;\n",
       "    }\n",
       "</style>\n",
       "<table border=\"1\" class=\"dataframe\">\n",
       "  <thead>\n",
       "    <tr style=\"text-align: right;\">\n",
       "      <th></th>\n",
       "      <th>MovieID</th>\n",
       "      <th>Title</th>\n",
       "      <th>Genre</th>\n",
       "      <th>Genre_List</th>\n",
       "    </tr>\n",
       "  </thead>\n",
       "  <tbody>\n",
       "    <tr>\n",
       "      <th>0</th>\n",
       "      <td>1</td>\n",
       "      <td>Toy Story (1995)</td>\n",
       "      <td>Animation|Children's|Comedy</td>\n",
       "      <td>[Animation, Children's, Comedy]</td>\n",
       "    </tr>\n",
       "    <tr>\n",
       "      <th>1</th>\n",
       "      <td>2</td>\n",
       "      <td>Jumanji (1995)</td>\n",
       "      <td>Adventure|Children's|Fantasy</td>\n",
       "      <td>[Adventure, Children's, Fantasy]</td>\n",
       "    </tr>\n",
       "    <tr>\n",
       "      <th>2</th>\n",
       "      <td>3</td>\n",
       "      <td>Grumpier Old Men (1995)</td>\n",
       "      <td>Comedy|Romance</td>\n",
       "      <td>[Comedy, Romance]</td>\n",
       "    </tr>\n",
       "    <tr>\n",
       "      <th>3</th>\n",
       "      <td>4</td>\n",
       "      <td>Waiting to Exhale (1995)</td>\n",
       "      <td>Comedy|Drama</td>\n",
       "      <td>[Comedy, Drama]</td>\n",
       "    </tr>\n",
       "    <tr>\n",
       "      <th>4</th>\n",
       "      <td>5</td>\n",
       "      <td>Father of the Bride Part II (1995)</td>\n",
       "      <td>Comedy</td>\n",
       "      <td>[Comedy]</td>\n",
       "    </tr>\n",
       "    <tr>\n",
       "      <th>5</th>\n",
       "      <td>6</td>\n",
       "      <td>Heat (1995)</td>\n",
       "      <td>Action|Crime|Thriller</td>\n",
       "      <td>[Action, Crime, Thriller]</td>\n",
       "    </tr>\n",
       "    <tr>\n",
       "      <th>6</th>\n",
       "      <td>7</td>\n",
       "      <td>Sabrina (1995)</td>\n",
       "      <td>Comedy|Romance</td>\n",
       "      <td>[Comedy, Romance]</td>\n",
       "    </tr>\n",
       "    <tr>\n",
       "      <th>7</th>\n",
       "      <td>8</td>\n",
       "      <td>Tom and Huck (1995)</td>\n",
       "      <td>Adventure|Children's</td>\n",
       "      <td>[Adventure, Children's]</td>\n",
       "    </tr>\n",
       "    <tr>\n",
       "      <th>8</th>\n",
       "      <td>9</td>\n",
       "      <td>Sudden Death (1995)</td>\n",
       "      <td>Action</td>\n",
       "      <td>[Action]</td>\n",
       "    </tr>\n",
       "    <tr>\n",
       "      <th>9</th>\n",
       "      <td>10</td>\n",
       "      <td>GoldenEye (1995)</td>\n",
       "      <td>Action|Adventure|Thriller</td>\n",
       "      <td>[Action, Adventure, Thriller]</td>\n",
       "    </tr>\n",
       "  </tbody>\n",
       "</table>\n",
       "</div>"
      ],
      "text/plain": [
       "   MovieID                               Title                         Genre  \\\n",
       "0        1                    Toy Story (1995)   Animation|Children's|Comedy   \n",
       "1        2                      Jumanji (1995)  Adventure|Children's|Fantasy   \n",
       "2        3             Grumpier Old Men (1995)                Comedy|Romance   \n",
       "3        4            Waiting to Exhale (1995)                  Comedy|Drama   \n",
       "4        5  Father of the Bride Part II (1995)                        Comedy   \n",
       "5        6                         Heat (1995)         Action|Crime|Thriller   \n",
       "6        7                      Sabrina (1995)                Comedy|Romance   \n",
       "7        8                 Tom and Huck (1995)          Adventure|Children's   \n",
       "8        9                 Sudden Death (1995)                        Action   \n",
       "9       10                    GoldenEye (1995)     Action|Adventure|Thriller   \n",
       "\n",
       "                         Genre_List  \n",
       "0   [Animation, Children's, Comedy]  \n",
       "1  [Adventure, Children's, Fantasy]  \n",
       "2                 [Comedy, Romance]  \n",
       "3                   [Comedy, Drama]  \n",
       "4                          [Comedy]  \n",
       "5         [Action, Crime, Thriller]  \n",
       "6                 [Comedy, Romance]  \n",
       "7           [Adventure, Children's]  \n",
       "8                          [Action]  \n",
       "9     [Action, Adventure, Thriller]  "
      ]
     },
     "execution_count": 33,
     "metadata": {},
     "output_type": "execute_result"
    }
   ],
   "source": [
    "movies_norm.head(10)"
   ]
  },
  {
   "cell_type": "code",
   "execution_count": 35,
   "metadata": {},
   "outputs": [
    {
     "data": {
      "text/plain": [
       "MovieID    3883\n",
       "Title      3883\n",
       "Genre      3883\n",
       "dtype: int64"
      ]
     },
     "execution_count": 35,
     "metadata": {},
     "output_type": "execute_result"
    }
   ],
   "source": [
    "movies.count()"
   ]
  },
  {
   "cell_type": "code",
   "execution_count": 10,
   "metadata": {},
   "outputs": [],
   "source": [
    "users = pd.read_csv(\"./ml-1m/users.dat\", sep=\"::\", engine=\"python\",\n",
    "                    header=None, names=['UserID','Gender','Age','Occupation','Zip-code'])"
   ]
  },
  {
   "cell_type": "code",
   "execution_count": 11,
   "metadata": {},
   "outputs": [
    {
     "data": {
      "application/vnd.microsoft.datawrangler.viewer.v0+json": {
       "columns": [
        {
         "name": "index",
         "rawType": "int64",
         "type": "integer"
        },
        {
         "name": "UserID",
         "rawType": "int64",
         "type": "integer"
        },
        {
         "name": "Gender",
         "rawType": "object",
         "type": "string"
        },
        {
         "name": "Age",
         "rawType": "int64",
         "type": "integer"
        },
        {
         "name": "Occupation",
         "rawType": "int64",
         "type": "integer"
        },
        {
         "name": "Zip-code",
         "rawType": "object",
         "type": "string"
        }
       ],
       "conversionMethod": "pd.DataFrame",
       "ref": "636cb085-e276-44a0-a343-d81f61c7d527",
       "rows": [
        [
         "0",
         "1",
         "F",
         "1",
         "10",
         "48067"
        ],
        [
         "1",
         "2",
         "M",
         "56",
         "16",
         "70072"
        ],
        [
         "2",
         "3",
         "M",
         "25",
         "15",
         "55117"
        ],
        [
         "3",
         "4",
         "M",
         "45",
         "7",
         "02460"
        ],
        [
         "4",
         "5",
         "M",
         "25",
         "20",
         "55455"
        ],
        [
         "5",
         "6",
         "F",
         "50",
         "9",
         "55117"
        ],
        [
         "6",
         "7",
         "M",
         "35",
         "1",
         "06810"
        ],
        [
         "7",
         "8",
         "M",
         "25",
         "12",
         "11413"
        ],
        [
         "8",
         "9",
         "M",
         "25",
         "17",
         "61614"
        ],
        [
         "9",
         "10",
         "F",
         "35",
         "1",
         "95370"
        ]
       ],
       "shape": {
        "columns": 5,
        "rows": 10
       }
      },
      "text/html": [
       "<div>\n",
       "<style scoped>\n",
       "    .dataframe tbody tr th:only-of-type {\n",
       "        vertical-align: middle;\n",
       "    }\n",
       "\n",
       "    .dataframe tbody tr th {\n",
       "        vertical-align: top;\n",
       "    }\n",
       "\n",
       "    .dataframe thead th {\n",
       "        text-align: right;\n",
       "    }\n",
       "</style>\n",
       "<table border=\"1\" class=\"dataframe\">\n",
       "  <thead>\n",
       "    <tr style=\"text-align: right;\">\n",
       "      <th></th>\n",
       "      <th>UserID</th>\n",
       "      <th>Gender</th>\n",
       "      <th>Age</th>\n",
       "      <th>Occupation</th>\n",
       "      <th>Zip-code</th>\n",
       "    </tr>\n",
       "  </thead>\n",
       "  <tbody>\n",
       "    <tr>\n",
       "      <th>0</th>\n",
       "      <td>1</td>\n",
       "      <td>F</td>\n",
       "      <td>1</td>\n",
       "      <td>10</td>\n",
       "      <td>48067</td>\n",
       "    </tr>\n",
       "    <tr>\n",
       "      <th>1</th>\n",
       "      <td>2</td>\n",
       "      <td>M</td>\n",
       "      <td>56</td>\n",
       "      <td>16</td>\n",
       "      <td>70072</td>\n",
       "    </tr>\n",
       "    <tr>\n",
       "      <th>2</th>\n",
       "      <td>3</td>\n",
       "      <td>M</td>\n",
       "      <td>25</td>\n",
       "      <td>15</td>\n",
       "      <td>55117</td>\n",
       "    </tr>\n",
       "    <tr>\n",
       "      <th>3</th>\n",
       "      <td>4</td>\n",
       "      <td>M</td>\n",
       "      <td>45</td>\n",
       "      <td>7</td>\n",
       "      <td>02460</td>\n",
       "    </tr>\n",
       "    <tr>\n",
       "      <th>4</th>\n",
       "      <td>5</td>\n",
       "      <td>M</td>\n",
       "      <td>25</td>\n",
       "      <td>20</td>\n",
       "      <td>55455</td>\n",
       "    </tr>\n",
       "    <tr>\n",
       "      <th>5</th>\n",
       "      <td>6</td>\n",
       "      <td>F</td>\n",
       "      <td>50</td>\n",
       "      <td>9</td>\n",
       "      <td>55117</td>\n",
       "    </tr>\n",
       "    <tr>\n",
       "      <th>6</th>\n",
       "      <td>7</td>\n",
       "      <td>M</td>\n",
       "      <td>35</td>\n",
       "      <td>1</td>\n",
       "      <td>06810</td>\n",
       "    </tr>\n",
       "    <tr>\n",
       "      <th>7</th>\n",
       "      <td>8</td>\n",
       "      <td>M</td>\n",
       "      <td>25</td>\n",
       "      <td>12</td>\n",
       "      <td>11413</td>\n",
       "    </tr>\n",
       "    <tr>\n",
       "      <th>8</th>\n",
       "      <td>9</td>\n",
       "      <td>M</td>\n",
       "      <td>25</td>\n",
       "      <td>17</td>\n",
       "      <td>61614</td>\n",
       "    </tr>\n",
       "    <tr>\n",
       "      <th>9</th>\n",
       "      <td>10</td>\n",
       "      <td>F</td>\n",
       "      <td>35</td>\n",
       "      <td>1</td>\n",
       "      <td>95370</td>\n",
       "    </tr>\n",
       "  </tbody>\n",
       "</table>\n",
       "</div>"
      ],
      "text/plain": [
       "   UserID Gender  Age  Occupation Zip-code\n",
       "0       1      F    1          10    48067\n",
       "1       2      M   56          16    70072\n",
       "2       3      M   25          15    55117\n",
       "3       4      M   45           7    02460\n",
       "4       5      M   25          20    55455\n",
       "5       6      F   50           9    55117\n",
       "6       7      M   35           1    06810\n",
       "7       8      M   25          12    11413\n",
       "8       9      M   25          17    61614\n",
       "9      10      F   35           1    95370"
      ]
     },
     "execution_count": 11,
     "metadata": {},
     "output_type": "execute_result"
    }
   ],
   "source": [
    "users.head(10)"
   ]
  },
  {
   "cell_type": "code",
   "execution_count": 34,
   "metadata": {},
   "outputs": [
    {
     "data": {
      "text/plain": [
       "UserID        6040\n",
       "Gender        6040\n",
       "Age           6040\n",
       "Occupation    6040\n",
       "Zip-code      6040\n",
       "dtype: int64"
      ]
     },
     "execution_count": 34,
     "metadata": {},
     "output_type": "execute_result"
    }
   ],
   "source": [
    "users.count()"
   ]
  },
  {
   "cell_type": "code",
   "execution_count": 12,
   "metadata": {},
   "outputs": [],
   "source": [
    "movies_ratings = pd.merge(ratings,movies, on=\"MovieID\", how=\"outer\")"
   ]
  },
  {
   "cell_type": "code",
   "execution_count": 13,
   "metadata": {},
   "outputs": [
    {
     "data": {
      "application/vnd.microsoft.datawrangler.viewer.v0+json": {
       "columns": [
        {
         "name": "index",
         "rawType": "int64",
         "type": "integer"
        },
        {
         "name": "UserID",
         "rawType": "float64",
         "type": "float"
        },
        {
         "name": "MovieID",
         "rawType": "int64",
         "type": "integer"
        },
        {
         "name": "Rating",
         "rawType": "float64",
         "type": "float"
        },
        {
         "name": "Timestamp",
         "rawType": "float64",
         "type": "float"
        },
        {
         "name": "Title",
         "rawType": "object",
         "type": "string"
        },
        {
         "name": "Genre",
         "rawType": "object",
         "type": "string"
        }
       ],
       "conversionMethod": "pd.DataFrame",
       "ref": "1402a799-7384-4433-96e9-e35d0a1f23e3",
       "rows": [
        [
         "0",
         "1.0",
         "1",
         "5.0",
         "978824268.0",
         "Toy Story (1995)",
         "Animation|Children's|Comedy"
        ],
        [
         "1",
         "6.0",
         "1",
         "4.0",
         "978237008.0",
         "Toy Story (1995)",
         "Animation|Children's|Comedy"
        ],
        [
         "2",
         "8.0",
         "1",
         "4.0",
         "978233496.0",
         "Toy Story (1995)",
         "Animation|Children's|Comedy"
        ],
        [
         "3",
         "9.0",
         "1",
         "5.0",
         "978225952.0",
         "Toy Story (1995)",
         "Animation|Children's|Comedy"
        ],
        [
         "4",
         "10.0",
         "1",
         "5.0",
         "978226474.0",
         "Toy Story (1995)",
         "Animation|Children's|Comedy"
        ],
        [
         "5",
         "18.0",
         "1",
         "4.0",
         "978154768.0",
         "Toy Story (1995)",
         "Animation|Children's|Comedy"
        ],
        [
         "6",
         "19.0",
         "1",
         "5.0",
         "978555994.0",
         "Toy Story (1995)",
         "Animation|Children's|Comedy"
        ],
        [
         "7",
         "21.0",
         "1",
         "3.0",
         "978139347.0",
         "Toy Story (1995)",
         "Animation|Children's|Comedy"
        ],
        [
         "8",
         "23.0",
         "1",
         "4.0",
         "978463614.0",
         "Toy Story (1995)",
         "Animation|Children's|Comedy"
        ],
        [
         "9",
         "26.0",
         "1",
         "3.0",
         "978130703.0",
         "Toy Story (1995)",
         "Animation|Children's|Comedy"
        ]
       ],
       "shape": {
        "columns": 6,
        "rows": 10
       }
      },
      "text/html": [
       "<div>\n",
       "<style scoped>\n",
       "    .dataframe tbody tr th:only-of-type {\n",
       "        vertical-align: middle;\n",
       "    }\n",
       "\n",
       "    .dataframe tbody tr th {\n",
       "        vertical-align: top;\n",
       "    }\n",
       "\n",
       "    .dataframe thead th {\n",
       "        text-align: right;\n",
       "    }\n",
       "</style>\n",
       "<table border=\"1\" class=\"dataframe\">\n",
       "  <thead>\n",
       "    <tr style=\"text-align: right;\">\n",
       "      <th></th>\n",
       "      <th>UserID</th>\n",
       "      <th>MovieID</th>\n",
       "      <th>Rating</th>\n",
       "      <th>Timestamp</th>\n",
       "      <th>Title</th>\n",
       "      <th>Genre</th>\n",
       "    </tr>\n",
       "  </thead>\n",
       "  <tbody>\n",
       "    <tr>\n",
       "      <th>0</th>\n",
       "      <td>1.0</td>\n",
       "      <td>1</td>\n",
       "      <td>5.0</td>\n",
       "      <td>978824268.0</td>\n",
       "      <td>Toy Story (1995)</td>\n",
       "      <td>Animation|Children's|Comedy</td>\n",
       "    </tr>\n",
       "    <tr>\n",
       "      <th>1</th>\n",
       "      <td>6.0</td>\n",
       "      <td>1</td>\n",
       "      <td>4.0</td>\n",
       "      <td>978237008.0</td>\n",
       "      <td>Toy Story (1995)</td>\n",
       "      <td>Animation|Children's|Comedy</td>\n",
       "    </tr>\n",
       "    <tr>\n",
       "      <th>2</th>\n",
       "      <td>8.0</td>\n",
       "      <td>1</td>\n",
       "      <td>4.0</td>\n",
       "      <td>978233496.0</td>\n",
       "      <td>Toy Story (1995)</td>\n",
       "      <td>Animation|Children's|Comedy</td>\n",
       "    </tr>\n",
       "    <tr>\n",
       "      <th>3</th>\n",
       "      <td>9.0</td>\n",
       "      <td>1</td>\n",
       "      <td>5.0</td>\n",
       "      <td>978225952.0</td>\n",
       "      <td>Toy Story (1995)</td>\n",
       "      <td>Animation|Children's|Comedy</td>\n",
       "    </tr>\n",
       "    <tr>\n",
       "      <th>4</th>\n",
       "      <td>10.0</td>\n",
       "      <td>1</td>\n",
       "      <td>5.0</td>\n",
       "      <td>978226474.0</td>\n",
       "      <td>Toy Story (1995)</td>\n",
       "      <td>Animation|Children's|Comedy</td>\n",
       "    </tr>\n",
       "    <tr>\n",
       "      <th>5</th>\n",
       "      <td>18.0</td>\n",
       "      <td>1</td>\n",
       "      <td>4.0</td>\n",
       "      <td>978154768.0</td>\n",
       "      <td>Toy Story (1995)</td>\n",
       "      <td>Animation|Children's|Comedy</td>\n",
       "    </tr>\n",
       "    <tr>\n",
       "      <th>6</th>\n",
       "      <td>19.0</td>\n",
       "      <td>1</td>\n",
       "      <td>5.0</td>\n",
       "      <td>978555994.0</td>\n",
       "      <td>Toy Story (1995)</td>\n",
       "      <td>Animation|Children's|Comedy</td>\n",
       "    </tr>\n",
       "    <tr>\n",
       "      <th>7</th>\n",
       "      <td>21.0</td>\n",
       "      <td>1</td>\n",
       "      <td>3.0</td>\n",
       "      <td>978139347.0</td>\n",
       "      <td>Toy Story (1995)</td>\n",
       "      <td>Animation|Children's|Comedy</td>\n",
       "    </tr>\n",
       "    <tr>\n",
       "      <th>8</th>\n",
       "      <td>23.0</td>\n",
       "      <td>1</td>\n",
       "      <td>4.0</td>\n",
       "      <td>978463614.0</td>\n",
       "      <td>Toy Story (1995)</td>\n",
       "      <td>Animation|Children's|Comedy</td>\n",
       "    </tr>\n",
       "    <tr>\n",
       "      <th>9</th>\n",
       "      <td>26.0</td>\n",
       "      <td>1</td>\n",
       "      <td>3.0</td>\n",
       "      <td>978130703.0</td>\n",
       "      <td>Toy Story (1995)</td>\n",
       "      <td>Animation|Children's|Comedy</td>\n",
       "    </tr>\n",
       "  </tbody>\n",
       "</table>\n",
       "</div>"
      ],
      "text/plain": [
       "   UserID  MovieID  Rating    Timestamp             Title  \\\n",
       "0     1.0        1     5.0  978824268.0  Toy Story (1995)   \n",
       "1     6.0        1     4.0  978237008.0  Toy Story (1995)   \n",
       "2     8.0        1     4.0  978233496.0  Toy Story (1995)   \n",
       "3     9.0        1     5.0  978225952.0  Toy Story (1995)   \n",
       "4    10.0        1     5.0  978226474.0  Toy Story (1995)   \n",
       "5    18.0        1     4.0  978154768.0  Toy Story (1995)   \n",
       "6    19.0        1     5.0  978555994.0  Toy Story (1995)   \n",
       "7    21.0        1     3.0  978139347.0  Toy Story (1995)   \n",
       "8    23.0        1     4.0  978463614.0  Toy Story (1995)   \n",
       "9    26.0        1     3.0  978130703.0  Toy Story (1995)   \n",
       "\n",
       "                         Genre  \n",
       "0  Animation|Children's|Comedy  \n",
       "1  Animation|Children's|Comedy  \n",
       "2  Animation|Children's|Comedy  \n",
       "3  Animation|Children's|Comedy  \n",
       "4  Animation|Children's|Comedy  \n",
       "5  Animation|Children's|Comedy  \n",
       "6  Animation|Children's|Comedy  \n",
       "7  Animation|Children's|Comedy  \n",
       "8  Animation|Children's|Comedy  \n",
       "9  Animation|Children's|Comedy  "
      ]
     },
     "execution_count": 13,
     "metadata": {},
     "output_type": "execute_result"
    }
   ],
   "source": [
    "movies_ratings.head(10)"
   ]
  },
  {
   "cell_type": "code",
   "execution_count": 14,
   "metadata": {},
   "outputs": [],
   "source": [
    "complete_df = pd.merge(movies_ratings, users, on=\"UserID\", how=\"outer\")"
   ]
  },
  {
   "cell_type": "code",
   "execution_count": 15,
   "metadata": {},
   "outputs": [
    {
     "data": {
      "application/vnd.microsoft.datawrangler.viewer.v0+json": {
       "columns": [
        {
         "name": "index",
         "rawType": "int64",
         "type": "integer"
        },
        {
         "name": "UserID",
         "rawType": "float64",
         "type": "float"
        },
        {
         "name": "MovieID",
         "rawType": "int64",
         "type": "integer"
        },
        {
         "name": "Rating",
         "rawType": "float64",
         "type": "float"
        },
        {
         "name": "Timestamp",
         "rawType": "float64",
         "type": "float"
        },
        {
         "name": "Title",
         "rawType": "object",
         "type": "string"
        },
        {
         "name": "Genre",
         "rawType": "object",
         "type": "string"
        },
        {
         "name": "Gender",
         "rawType": "object",
         "type": "string"
        },
        {
         "name": "Age",
         "rawType": "float64",
         "type": "float"
        },
        {
         "name": "Occupation",
         "rawType": "float64",
         "type": "float"
        },
        {
         "name": "Zip-code",
         "rawType": "object",
         "type": "string"
        }
       ],
       "conversionMethod": "pd.DataFrame",
       "ref": "59646f04-4268-4a6f-b0cd-f6cbcc3ed97e",
       "rows": [
        [
         "0",
         "1.0",
         "1",
         "5.0",
         "978824268.0",
         "Toy Story (1995)",
         "Animation|Children's|Comedy",
         "F",
         "1.0",
         "10.0",
         "48067"
        ],
        [
         "1",
         "1.0",
         "48",
         "5.0",
         "978824351.0",
         "Pocahontas (1995)",
         "Animation|Children's|Musical|Romance",
         "F",
         "1.0",
         "10.0",
         "48067"
        ],
        [
         "2",
         "1.0",
         "150",
         "5.0",
         "978301777.0",
         "Apollo 13 (1995)",
         "Drama",
         "F",
         "1.0",
         "10.0",
         "48067"
        ],
        [
         "3",
         "1.0",
         "260",
         "4.0",
         "978300760.0",
         "Star Wars: Episode IV - A New Hope (1977)",
         "Action|Adventure|Fantasy|Sci-Fi",
         "F",
         "1.0",
         "10.0",
         "48067"
        ],
        [
         "4",
         "1.0",
         "527",
         "5.0",
         "978824195.0",
         "Schindler's List (1993)",
         "Drama|War",
         "F",
         "1.0",
         "10.0",
         "48067"
        ],
        [
         "5",
         "1.0",
         "531",
         "4.0",
         "978302149.0",
         "Secret Garden, The (1993)",
         "Children's|Drama",
         "F",
         "1.0",
         "10.0",
         "48067"
        ],
        [
         "6",
         "1.0",
         "588",
         "4.0",
         "978824268.0",
         "Aladdin (1992)",
         "Animation|Children's|Comedy|Musical",
         "F",
         "1.0",
         "10.0",
         "48067"
        ],
        [
         "7",
         "1.0",
         "594",
         "4.0",
         "978302268.0",
         "Snow White and the Seven Dwarfs (1937)",
         "Animation|Children's|Musical",
         "F",
         "1.0",
         "10.0",
         "48067"
        ],
        [
         "8",
         "1.0",
         "595",
         "5.0",
         "978824268.0",
         "Beauty and the Beast (1991)",
         "Animation|Children's|Musical",
         "F",
         "1.0",
         "10.0",
         "48067"
        ],
        [
         "9",
         "1.0",
         "608",
         "4.0",
         "978301398.0",
         "Fargo (1996)",
         "Crime|Drama|Thriller",
         "F",
         "1.0",
         "10.0",
         "48067"
        ]
       ],
       "shape": {
        "columns": 10,
        "rows": 10
       }
      },
      "text/html": [
       "<div>\n",
       "<style scoped>\n",
       "    .dataframe tbody tr th:only-of-type {\n",
       "        vertical-align: middle;\n",
       "    }\n",
       "\n",
       "    .dataframe tbody tr th {\n",
       "        vertical-align: top;\n",
       "    }\n",
       "\n",
       "    .dataframe thead th {\n",
       "        text-align: right;\n",
       "    }\n",
       "</style>\n",
       "<table border=\"1\" class=\"dataframe\">\n",
       "  <thead>\n",
       "    <tr style=\"text-align: right;\">\n",
       "      <th></th>\n",
       "      <th>UserID</th>\n",
       "      <th>MovieID</th>\n",
       "      <th>Rating</th>\n",
       "      <th>Timestamp</th>\n",
       "      <th>Title</th>\n",
       "      <th>Genre</th>\n",
       "      <th>Gender</th>\n",
       "      <th>Age</th>\n",
       "      <th>Occupation</th>\n",
       "      <th>Zip-code</th>\n",
       "    </tr>\n",
       "  </thead>\n",
       "  <tbody>\n",
       "    <tr>\n",
       "      <th>0</th>\n",
       "      <td>1.0</td>\n",
       "      <td>1</td>\n",
       "      <td>5.0</td>\n",
       "      <td>978824268.0</td>\n",
       "      <td>Toy Story (1995)</td>\n",
       "      <td>Animation|Children's|Comedy</td>\n",
       "      <td>F</td>\n",
       "      <td>1.0</td>\n",
       "      <td>10.0</td>\n",
       "      <td>48067</td>\n",
       "    </tr>\n",
       "    <tr>\n",
       "      <th>1</th>\n",
       "      <td>1.0</td>\n",
       "      <td>48</td>\n",
       "      <td>5.0</td>\n",
       "      <td>978824351.0</td>\n",
       "      <td>Pocahontas (1995)</td>\n",
       "      <td>Animation|Children's|Musical|Romance</td>\n",
       "      <td>F</td>\n",
       "      <td>1.0</td>\n",
       "      <td>10.0</td>\n",
       "      <td>48067</td>\n",
       "    </tr>\n",
       "    <tr>\n",
       "      <th>2</th>\n",
       "      <td>1.0</td>\n",
       "      <td>150</td>\n",
       "      <td>5.0</td>\n",
       "      <td>978301777.0</td>\n",
       "      <td>Apollo 13 (1995)</td>\n",
       "      <td>Drama</td>\n",
       "      <td>F</td>\n",
       "      <td>1.0</td>\n",
       "      <td>10.0</td>\n",
       "      <td>48067</td>\n",
       "    </tr>\n",
       "    <tr>\n",
       "      <th>3</th>\n",
       "      <td>1.0</td>\n",
       "      <td>260</td>\n",
       "      <td>4.0</td>\n",
       "      <td>978300760.0</td>\n",
       "      <td>Star Wars: Episode IV - A New Hope (1977)</td>\n",
       "      <td>Action|Adventure|Fantasy|Sci-Fi</td>\n",
       "      <td>F</td>\n",
       "      <td>1.0</td>\n",
       "      <td>10.0</td>\n",
       "      <td>48067</td>\n",
       "    </tr>\n",
       "    <tr>\n",
       "      <th>4</th>\n",
       "      <td>1.0</td>\n",
       "      <td>527</td>\n",
       "      <td>5.0</td>\n",
       "      <td>978824195.0</td>\n",
       "      <td>Schindler's List (1993)</td>\n",
       "      <td>Drama|War</td>\n",
       "      <td>F</td>\n",
       "      <td>1.0</td>\n",
       "      <td>10.0</td>\n",
       "      <td>48067</td>\n",
       "    </tr>\n",
       "    <tr>\n",
       "      <th>5</th>\n",
       "      <td>1.0</td>\n",
       "      <td>531</td>\n",
       "      <td>4.0</td>\n",
       "      <td>978302149.0</td>\n",
       "      <td>Secret Garden, The (1993)</td>\n",
       "      <td>Children's|Drama</td>\n",
       "      <td>F</td>\n",
       "      <td>1.0</td>\n",
       "      <td>10.0</td>\n",
       "      <td>48067</td>\n",
       "    </tr>\n",
       "    <tr>\n",
       "      <th>6</th>\n",
       "      <td>1.0</td>\n",
       "      <td>588</td>\n",
       "      <td>4.0</td>\n",
       "      <td>978824268.0</td>\n",
       "      <td>Aladdin (1992)</td>\n",
       "      <td>Animation|Children's|Comedy|Musical</td>\n",
       "      <td>F</td>\n",
       "      <td>1.0</td>\n",
       "      <td>10.0</td>\n",
       "      <td>48067</td>\n",
       "    </tr>\n",
       "    <tr>\n",
       "      <th>7</th>\n",
       "      <td>1.0</td>\n",
       "      <td>594</td>\n",
       "      <td>4.0</td>\n",
       "      <td>978302268.0</td>\n",
       "      <td>Snow White and the Seven Dwarfs (1937)</td>\n",
       "      <td>Animation|Children's|Musical</td>\n",
       "      <td>F</td>\n",
       "      <td>1.0</td>\n",
       "      <td>10.0</td>\n",
       "      <td>48067</td>\n",
       "    </tr>\n",
       "    <tr>\n",
       "      <th>8</th>\n",
       "      <td>1.0</td>\n",
       "      <td>595</td>\n",
       "      <td>5.0</td>\n",
       "      <td>978824268.0</td>\n",
       "      <td>Beauty and the Beast (1991)</td>\n",
       "      <td>Animation|Children's|Musical</td>\n",
       "      <td>F</td>\n",
       "      <td>1.0</td>\n",
       "      <td>10.0</td>\n",
       "      <td>48067</td>\n",
       "    </tr>\n",
       "    <tr>\n",
       "      <th>9</th>\n",
       "      <td>1.0</td>\n",
       "      <td>608</td>\n",
       "      <td>4.0</td>\n",
       "      <td>978301398.0</td>\n",
       "      <td>Fargo (1996)</td>\n",
       "      <td>Crime|Drama|Thriller</td>\n",
       "      <td>F</td>\n",
       "      <td>1.0</td>\n",
       "      <td>10.0</td>\n",
       "      <td>48067</td>\n",
       "    </tr>\n",
       "  </tbody>\n",
       "</table>\n",
       "</div>"
      ],
      "text/plain": [
       "   UserID  MovieID  Rating    Timestamp  \\\n",
       "0     1.0        1     5.0  978824268.0   \n",
       "1     1.0       48     5.0  978824351.0   \n",
       "2     1.0      150     5.0  978301777.0   \n",
       "3     1.0      260     4.0  978300760.0   \n",
       "4     1.0      527     5.0  978824195.0   \n",
       "5     1.0      531     4.0  978302149.0   \n",
       "6     1.0      588     4.0  978824268.0   \n",
       "7     1.0      594     4.0  978302268.0   \n",
       "8     1.0      595     5.0  978824268.0   \n",
       "9     1.0      608     4.0  978301398.0   \n",
       "\n",
       "                                       Title  \\\n",
       "0                           Toy Story (1995)   \n",
       "1                          Pocahontas (1995)   \n",
       "2                           Apollo 13 (1995)   \n",
       "3  Star Wars: Episode IV - A New Hope (1977)   \n",
       "4                    Schindler's List (1993)   \n",
       "5                  Secret Garden, The (1993)   \n",
       "6                             Aladdin (1992)   \n",
       "7     Snow White and the Seven Dwarfs (1937)   \n",
       "8                Beauty and the Beast (1991)   \n",
       "9                               Fargo (1996)   \n",
       "\n",
       "                                  Genre Gender  Age  Occupation Zip-code  \n",
       "0           Animation|Children's|Comedy      F  1.0        10.0    48067  \n",
       "1  Animation|Children's|Musical|Romance      F  1.0        10.0    48067  \n",
       "2                                 Drama      F  1.0        10.0    48067  \n",
       "3       Action|Adventure|Fantasy|Sci-Fi      F  1.0        10.0    48067  \n",
       "4                             Drama|War      F  1.0        10.0    48067  \n",
       "5                      Children's|Drama      F  1.0        10.0    48067  \n",
       "6   Animation|Children's|Comedy|Musical      F  1.0        10.0    48067  \n",
       "7          Animation|Children's|Musical      F  1.0        10.0    48067  \n",
       "8          Animation|Children's|Musical      F  1.0        10.0    48067  \n",
       "9                  Crime|Drama|Thriller      F  1.0        10.0    48067  "
      ]
     },
     "execution_count": 15,
     "metadata": {},
     "output_type": "execute_result"
    }
   ],
   "source": [
    "complete_df.head(10)"
   ]
  },
  {
   "cell_type": "markdown",
   "metadata": {},
   "source": [
    "# Data preprocessing"
   ]
  },
  {
   "cell_type": "code",
   "execution_count": null,
   "metadata": {},
   "outputs": [],
   "source": []
  },
  {
   "cell_type": "markdown",
   "metadata": {},
   "source": [
    "# Neural Network architecture"
   ]
  },
  {
   "cell_type": "code",
   "execution_count": null,
   "metadata": {},
   "outputs": [],
   "source": [
    "class GMF(nn.Module):\n",
    "    def __init__(self, num_users, num_items, embedding_dim):\n",
    "        super(GMF, self).__init__()\n",
    "        # Embedding layers for users and items\n",
    "        self.user_embedding = nn.Embedding(num_users, embedding_dim)\n",
    "        self.item_embedding = nn.Embedding(num_items, embedding_dim)\n",
    "        # Output layer weight (h) for combining element-wise product\n",
    "        self.h = nn.Parameter(torch.randn(embedding_dim))\n",
    "        # Sigmoid activation to map predictions to [0, 1]\n",
    "        self.sigmoid = nn.Sigmoid()\n",
    "        \n",
    "    def forward(self, user_ids, item_ids):\n",
    "        p_u = self.user_embedding(user_ids)\n",
    "        q_i = self.item_embedding(item_ids)\n",
    "        # Element-wise product\n",
    "        interaction = p_u * q_i  \n",
    "        # Linear combination using the weight vector h\n",
    "        prediction = torch.sum(interaction * self.h, dim=1)\n",
    "        return self.sigmoid(prediction)\n"
   ]
  }
 ],
 "metadata": {
  "kernelspec": {
   "display_name": "deepLearningvenv",
   "language": "python",
   "name": "python3"
  },
  "language_info": {
   "codemirror_mode": {
    "name": "ipython",
    "version": 3
   },
   "file_extension": ".py",
   "mimetype": "text/x-python",
   "name": "python",
   "nbconvert_exporter": "python",
   "pygments_lexer": "ipython3",
   "version": "3.12.3"
  },
  "orig_nbformat": 4
 },
 "nbformat": 4,
 "nbformat_minor": 2
}
