{
 "cells": [
  {
   "attachments": {},
   "cell_type": "markdown",
   "metadata": {},
   "source": [
    "# Movie Recommendation System (1M)"
   ]
  },
  {
   "attachments": {},
   "cell_type": "markdown",
   "metadata": {},
   "source": [
    "## Initial library load "
   ]
  },
  {
   "cell_type": "code",
   "execution_count": null,
   "metadata": {},
   "outputs": [],
   "source": [
    "import torch\n",
    "import torch.nn as nn\n",
    "import torch.optim as optim\n",
    "from torch.utils.tensorboard import SummaryWriter\n",
    "from torch.utils.data import TensorDataset, DataLoader, Dataset, Subset\n",
    "from sklearn.model_selection import train_test_split\n",
    "from sklearn.preprocessing import StandardScaler\n",
    "import matplotlib.pyplot as plt\n",
    "import numpy as np\n",
    "import pandas as pd\n",
    "import seaborn as sns\n",
    "import random\n",
    "from datetime import datetime\n",
    "from unidecode import unidecode"
   ]
  },
  {
   "cell_type": "code",
   "execution_count": 2,
   "metadata": {},
   "outputs": [],
   "source": [
    "device = torch.device(\"cuda\" if torch.cuda.is_available() else \"cpu\")"
   ]
  },
  {
   "cell_type": "code",
   "execution_count": 3,
   "metadata": {},
   "outputs": [
    {
     "data": {
      "text/plain": [
       "<torch._C.Generator at 0x7f249450efd0>"
      ]
     },
     "execution_count": 3,
     "metadata": {},
     "output_type": "execute_result"
    }
   ],
   "source": [
    "seed = 42\n",
    "random.seed(seed)\n",
    "np.random.seed(seed)\n",
    "torch.manual_seed(seed)"
   ]
  },
  {
   "cell_type": "code",
   "execution_count": 4,
   "metadata": {},
   "outputs": [],
   "source": [
    "writer = SummaryWriter()  "
   ]
  },
  {
   "attachments": {},
   "cell_type": "markdown",
   "metadata": {},
   "source": [
    "## Data load and preprocessing"
   ]
  },
  {
   "cell_type": "code",
   "execution_count": 5,
   "metadata": {},
   "outputs": [],
   "source": [
    "ratings = pd.read_csv(\"./ml-1m/ratings.dat\", sep=\"::\", header=None,\n",
    "                      names=['UserID','MovieID','Rating','Timestamp'], engine=\"python\")"
   ]
  },
  {
   "cell_type": "code",
   "execution_count": 6,
   "metadata": {},
   "outputs": [],
   "source": [
    "# convert timestamp to datetime\n",
    "ratings['Datetime'] = ratings['Timestamp'].apply(lambda ts: datetime.fromtimestamp(ts))"
   ]
  },
  {
   "cell_type": "code",
   "execution_count": 7,
   "metadata": {},
   "outputs": [],
   "source": [
    "ratings['Label'] = 1"
   ]
  },
  {
   "cell_type": "code",
   "execution_count": 8,
   "metadata": {},
   "outputs": [],
   "source": [
    "# Ensure user and movie IDs are zero-indexed for embedding layers.\n",
    "ratings['UserID'] = ratings['UserID'] - 1  # Users: 0 to 6039\n",
    "ratings['MovieID'] = ratings['MovieID'] - 1  # Movies: 0 to (n-1)"
   ]
  },
  {
   "cell_type": "code",
   "execution_count": 9,
   "metadata": {},
   "outputs": [
    {
     "data": {
      "application/vnd.microsoft.datawrangler.viewer.v0+json": {
       "columns": [
        {
         "name": "index",
         "rawType": "int64",
         "type": "integer"
        },
        {
         "name": "UserID",
         "rawType": "int64",
         "type": "integer"
        },
        {
         "name": "MovieID",
         "rawType": "int64",
         "type": "integer"
        },
        {
         "name": "Rating",
         "rawType": "int64",
         "type": "integer"
        },
        {
         "name": "Timestamp",
         "rawType": "int64",
         "type": "integer"
        },
        {
         "name": "Datetime",
         "rawType": "datetime64[ns]",
         "type": "datetime"
        },
        {
         "name": "Label",
         "rawType": "int64",
         "type": "integer"
        }
       ],
       "conversionMethod": "pd.DataFrame",
       "ref": "54e04b55-1ad9-4d27-8426-c9997cc90b7d",
       "rows": [
        [
         "0",
         "0",
         "1192",
         "5",
         "978300760",
         "2000-12-31 23:12:40",
         "1"
        ],
        [
         "1",
         "0",
         "660",
         "3",
         "978302109",
         "2000-12-31 23:35:09",
         "1"
        ],
        [
         "2",
         "0",
         "913",
         "3",
         "978301968",
         "2000-12-31 23:32:48",
         "1"
        ],
        [
         "3",
         "0",
         "3407",
         "4",
         "978300275",
         "2000-12-31 23:04:35",
         "1"
        ],
        [
         "4",
         "0",
         "2354",
         "5",
         "978824291",
         "2001-01-07 00:38:11",
         "1"
        ],
        [
         "5",
         "0",
         "1196",
         "3",
         "978302268",
         "2000-12-31 23:37:48",
         "1"
        ],
        [
         "6",
         "0",
         "1286",
         "5",
         "978302039",
         "2000-12-31 23:33:59",
         "1"
        ],
        [
         "7",
         "0",
         "2803",
         "5",
         "978300719",
         "2000-12-31 23:11:59",
         "1"
        ],
        [
         "8",
         "0",
         "593",
         "4",
         "978302268",
         "2000-12-31 23:37:48",
         "1"
        ],
        [
         "9",
         "0",
         "918",
         "4",
         "978301368",
         "2000-12-31 23:22:48",
         "1"
        ]
       ],
       "shape": {
        "columns": 6,
        "rows": 10
       }
      },
      "text/html": [
       "<div>\n",
       "<style scoped>\n",
       "    .dataframe tbody tr th:only-of-type {\n",
       "        vertical-align: middle;\n",
       "    }\n",
       "\n",
       "    .dataframe tbody tr th {\n",
       "        vertical-align: top;\n",
       "    }\n",
       "\n",
       "    .dataframe thead th {\n",
       "        text-align: right;\n",
       "    }\n",
       "</style>\n",
       "<table border=\"1\" class=\"dataframe\">\n",
       "  <thead>\n",
       "    <tr style=\"text-align: right;\">\n",
       "      <th></th>\n",
       "      <th>UserID</th>\n",
       "      <th>MovieID</th>\n",
       "      <th>Rating</th>\n",
       "      <th>Timestamp</th>\n",
       "      <th>Datetime</th>\n",
       "      <th>Label</th>\n",
       "    </tr>\n",
       "  </thead>\n",
       "  <tbody>\n",
       "    <tr>\n",
       "      <th>0</th>\n",
       "      <td>0</td>\n",
       "      <td>1192</td>\n",
       "      <td>5</td>\n",
       "      <td>978300760</td>\n",
       "      <td>2000-12-31 23:12:40</td>\n",
       "      <td>1</td>\n",
       "    </tr>\n",
       "    <tr>\n",
       "      <th>1</th>\n",
       "      <td>0</td>\n",
       "      <td>660</td>\n",
       "      <td>3</td>\n",
       "      <td>978302109</td>\n",
       "      <td>2000-12-31 23:35:09</td>\n",
       "      <td>1</td>\n",
       "    </tr>\n",
       "    <tr>\n",
       "      <th>2</th>\n",
       "      <td>0</td>\n",
       "      <td>913</td>\n",
       "      <td>3</td>\n",
       "      <td>978301968</td>\n",
       "      <td>2000-12-31 23:32:48</td>\n",
       "      <td>1</td>\n",
       "    </tr>\n",
       "    <tr>\n",
       "      <th>3</th>\n",
       "      <td>0</td>\n",
       "      <td>3407</td>\n",
       "      <td>4</td>\n",
       "      <td>978300275</td>\n",
       "      <td>2000-12-31 23:04:35</td>\n",
       "      <td>1</td>\n",
       "    </tr>\n",
       "    <tr>\n",
       "      <th>4</th>\n",
       "      <td>0</td>\n",
       "      <td>2354</td>\n",
       "      <td>5</td>\n",
       "      <td>978824291</td>\n",
       "      <td>2001-01-07 00:38:11</td>\n",
       "      <td>1</td>\n",
       "    </tr>\n",
       "    <tr>\n",
       "      <th>5</th>\n",
       "      <td>0</td>\n",
       "      <td>1196</td>\n",
       "      <td>3</td>\n",
       "      <td>978302268</td>\n",
       "      <td>2000-12-31 23:37:48</td>\n",
       "      <td>1</td>\n",
       "    </tr>\n",
       "    <tr>\n",
       "      <th>6</th>\n",
       "      <td>0</td>\n",
       "      <td>1286</td>\n",
       "      <td>5</td>\n",
       "      <td>978302039</td>\n",
       "      <td>2000-12-31 23:33:59</td>\n",
       "      <td>1</td>\n",
       "    </tr>\n",
       "    <tr>\n",
       "      <th>7</th>\n",
       "      <td>0</td>\n",
       "      <td>2803</td>\n",
       "      <td>5</td>\n",
       "      <td>978300719</td>\n",
       "      <td>2000-12-31 23:11:59</td>\n",
       "      <td>1</td>\n",
       "    </tr>\n",
       "    <tr>\n",
       "      <th>8</th>\n",
       "      <td>0</td>\n",
       "      <td>593</td>\n",
       "      <td>4</td>\n",
       "      <td>978302268</td>\n",
       "      <td>2000-12-31 23:37:48</td>\n",
       "      <td>1</td>\n",
       "    </tr>\n",
       "    <tr>\n",
       "      <th>9</th>\n",
       "      <td>0</td>\n",
       "      <td>918</td>\n",
       "      <td>4</td>\n",
       "      <td>978301368</td>\n",
       "      <td>2000-12-31 23:22:48</td>\n",
       "      <td>1</td>\n",
       "    </tr>\n",
       "  </tbody>\n",
       "</table>\n",
       "</div>"
      ],
      "text/plain": [
       "   UserID  MovieID  Rating  Timestamp            Datetime  Label\n",
       "0       0     1192       5  978300760 2000-12-31 23:12:40      1\n",
       "1       0      660       3  978302109 2000-12-31 23:35:09      1\n",
       "2       0      913       3  978301968 2000-12-31 23:32:48      1\n",
       "3       0     3407       4  978300275 2000-12-31 23:04:35      1\n",
       "4       0     2354       5  978824291 2001-01-07 00:38:11      1\n",
       "5       0     1196       3  978302268 2000-12-31 23:37:48      1\n",
       "6       0     1286       5  978302039 2000-12-31 23:33:59      1\n",
       "7       0     2803       5  978300719 2000-12-31 23:11:59      1\n",
       "8       0      593       4  978302268 2000-12-31 23:37:48      1\n",
       "9       0      918       4  978301368 2000-12-31 23:22:48      1"
      ]
     },
     "execution_count": 9,
     "metadata": {},
     "output_type": "execute_result"
    }
   ],
   "source": [
    "ratings.head(10)"
   ]
  },
  {
   "cell_type": "code",
   "execution_count": 10,
   "metadata": {},
   "outputs": [],
   "source": [
    "movies = pd.read_csv(\"./ml-1m/movies.dat\", sep=\"::\", header=None,\n",
    "                     names=['MovieID','Title','Genre'], engine=\"python\",\n",
    "                    encoding=\"utf-8\",\n",
    "                    lineterminator=\"\\n\",\n",
    "                    on_bad_lines=\"skip\")"
   ]
  },
  {
   "cell_type": "code",
   "execution_count": 11,
   "metadata": {},
   "outputs": [
    {
     "data": {
      "application/vnd.microsoft.datawrangler.viewer.v0+json": {
       "columns": [
        {
         "name": "index",
         "rawType": "int64",
         "type": "integer"
        },
        {
         "name": "MovieID",
         "rawType": "int64",
         "type": "integer"
        },
        {
         "name": "Title",
         "rawType": "object",
         "type": "string"
        },
        {
         "name": "Genre",
         "rawType": "object",
         "type": "string"
        }
       ],
       "conversionMethod": "pd.DataFrame",
       "ref": "8bb7c192-9a58-44d6-a592-61fcf3dd859f",
       "rows": [
        [
         "0",
         "1",
         "Toy Story (1995)",
         "Animation|Children's|Comedy"
        ],
        [
         "1",
         "2",
         "Jumanji (1995)",
         "Adventure|Children's|Fantasy"
        ],
        [
         "2",
         "3",
         "Grumpier Old Men (1995)",
         "Comedy|Romance"
        ],
        [
         "3",
         "4",
         "Waiting to Exhale (1995)",
         "Comedy|Drama"
        ],
        [
         "4",
         "5",
         "Father of the Bride Part II (1995)",
         "Comedy"
        ],
        [
         "5",
         "6",
         "Heat (1995)",
         "Action|Crime|Thriller"
        ],
        [
         "6",
         "7",
         "Sabrina (1995)",
         "Comedy|Romance"
        ],
        [
         "7",
         "8",
         "Tom and Huck (1995)",
         "Adventure|Children's"
        ],
        [
         "8",
         "9",
         "Sudden Death (1995)",
         "Action"
        ],
        [
         "9",
         "10",
         "GoldenEye (1995)",
         "Action|Adventure|Thriller"
        ],
        [
         "10",
         "11",
         "American President, The (1995)",
         "Comedy|Drama|Romance"
        ],
        [
         "11",
         "12",
         "Dracula: Dead and Loving It (1995)",
         "Comedy|Horror"
        ],
        [
         "12",
         "13",
         "Balto (1995)",
         "Animation|Children's"
        ],
        [
         "13",
         "14",
         "Nixon (1995)",
         "Drama"
        ],
        [
         "14",
         "15",
         "Cutthroat Island (1995)",
         "Action|Adventure|Romance"
        ],
        [
         "15",
         "16",
         "Casino (1995)",
         "Drama|Thriller"
        ],
        [
         "16",
         "17",
         "Sense and Sensibility (1995)",
         "Drama|Romance"
        ],
        [
         "17",
         "18",
         "Four Rooms (1995)",
         "Thriller"
        ],
        [
         "18",
         "19",
         "Ace Ventura: When Nature Calls (1995)",
         "Comedy"
        ],
        [
         "19",
         "20",
         "Money Train (1995)",
         "Action"
        ]
       ],
       "shape": {
        "columns": 3,
        "rows": 20
       }
      },
      "text/html": [
       "<div>\n",
       "<style scoped>\n",
       "    .dataframe tbody tr th:only-of-type {\n",
       "        vertical-align: middle;\n",
       "    }\n",
       "\n",
       "    .dataframe tbody tr th {\n",
       "        vertical-align: top;\n",
       "    }\n",
       "\n",
       "    .dataframe thead th {\n",
       "        text-align: right;\n",
       "    }\n",
       "</style>\n",
       "<table border=\"1\" class=\"dataframe\">\n",
       "  <thead>\n",
       "    <tr style=\"text-align: right;\">\n",
       "      <th></th>\n",
       "      <th>MovieID</th>\n",
       "      <th>Title</th>\n",
       "      <th>Genre</th>\n",
       "    </tr>\n",
       "  </thead>\n",
       "  <tbody>\n",
       "    <tr>\n",
       "      <th>0</th>\n",
       "      <td>1</td>\n",
       "      <td>Toy Story (1995)</td>\n",
       "      <td>Animation|Children's|Comedy</td>\n",
       "    </tr>\n",
       "    <tr>\n",
       "      <th>1</th>\n",
       "      <td>2</td>\n",
       "      <td>Jumanji (1995)</td>\n",
       "      <td>Adventure|Children's|Fantasy</td>\n",
       "    </tr>\n",
       "    <tr>\n",
       "      <th>2</th>\n",
       "      <td>3</td>\n",
       "      <td>Grumpier Old Men (1995)</td>\n",
       "      <td>Comedy|Romance</td>\n",
       "    </tr>\n",
       "    <tr>\n",
       "      <th>3</th>\n",
       "      <td>4</td>\n",
       "      <td>Waiting to Exhale (1995)</td>\n",
       "      <td>Comedy|Drama</td>\n",
       "    </tr>\n",
       "    <tr>\n",
       "      <th>4</th>\n",
       "      <td>5</td>\n",
       "      <td>Father of the Bride Part II (1995)</td>\n",
       "      <td>Comedy</td>\n",
       "    </tr>\n",
       "    <tr>\n",
       "      <th>5</th>\n",
       "      <td>6</td>\n",
       "      <td>Heat (1995)</td>\n",
       "      <td>Action|Crime|Thriller</td>\n",
       "    </tr>\n",
       "    <tr>\n",
       "      <th>6</th>\n",
       "      <td>7</td>\n",
       "      <td>Sabrina (1995)</td>\n",
       "      <td>Comedy|Romance</td>\n",
       "    </tr>\n",
       "    <tr>\n",
       "      <th>7</th>\n",
       "      <td>8</td>\n",
       "      <td>Tom and Huck (1995)</td>\n",
       "      <td>Adventure|Children's</td>\n",
       "    </tr>\n",
       "    <tr>\n",
       "      <th>8</th>\n",
       "      <td>9</td>\n",
       "      <td>Sudden Death (1995)</td>\n",
       "      <td>Action</td>\n",
       "    </tr>\n",
       "    <tr>\n",
       "      <th>9</th>\n",
       "      <td>10</td>\n",
       "      <td>GoldenEye (1995)</td>\n",
       "      <td>Action|Adventure|Thriller</td>\n",
       "    </tr>\n",
       "    <tr>\n",
       "      <th>10</th>\n",
       "      <td>11</td>\n",
       "      <td>American President, The (1995)</td>\n",
       "      <td>Comedy|Drama|Romance</td>\n",
       "    </tr>\n",
       "    <tr>\n",
       "      <th>11</th>\n",
       "      <td>12</td>\n",
       "      <td>Dracula: Dead and Loving It (1995)</td>\n",
       "      <td>Comedy|Horror</td>\n",
       "    </tr>\n",
       "    <tr>\n",
       "      <th>12</th>\n",
       "      <td>13</td>\n",
       "      <td>Balto (1995)</td>\n",
       "      <td>Animation|Children's</td>\n",
       "    </tr>\n",
       "    <tr>\n",
       "      <th>13</th>\n",
       "      <td>14</td>\n",
       "      <td>Nixon (1995)</td>\n",
       "      <td>Drama</td>\n",
       "    </tr>\n",
       "    <tr>\n",
       "      <th>14</th>\n",
       "      <td>15</td>\n",
       "      <td>Cutthroat Island (1995)</td>\n",
       "      <td>Action|Adventure|Romance</td>\n",
       "    </tr>\n",
       "    <tr>\n",
       "      <th>15</th>\n",
       "      <td>16</td>\n",
       "      <td>Casino (1995)</td>\n",
       "      <td>Drama|Thriller</td>\n",
       "    </tr>\n",
       "    <tr>\n",
       "      <th>16</th>\n",
       "      <td>17</td>\n",
       "      <td>Sense and Sensibility (1995)</td>\n",
       "      <td>Drama|Romance</td>\n",
       "    </tr>\n",
       "    <tr>\n",
       "      <th>17</th>\n",
       "      <td>18</td>\n",
       "      <td>Four Rooms (1995)</td>\n",
       "      <td>Thriller</td>\n",
       "    </tr>\n",
       "    <tr>\n",
       "      <th>18</th>\n",
       "      <td>19</td>\n",
       "      <td>Ace Ventura: When Nature Calls (1995)</td>\n",
       "      <td>Comedy</td>\n",
       "    </tr>\n",
       "    <tr>\n",
       "      <th>19</th>\n",
       "      <td>20</td>\n",
       "      <td>Money Train (1995)</td>\n",
       "      <td>Action</td>\n",
       "    </tr>\n",
       "  </tbody>\n",
       "</table>\n",
       "</div>"
      ],
      "text/plain": [
       "    MovieID                                  Title  \\\n",
       "0         1                       Toy Story (1995)   \n",
       "1         2                         Jumanji (1995)   \n",
       "2         3                Grumpier Old Men (1995)   \n",
       "3         4               Waiting to Exhale (1995)   \n",
       "4         5     Father of the Bride Part II (1995)   \n",
       "5         6                            Heat (1995)   \n",
       "6         7                         Sabrina (1995)   \n",
       "7         8                    Tom and Huck (1995)   \n",
       "8         9                    Sudden Death (1995)   \n",
       "9        10                       GoldenEye (1995)   \n",
       "10       11         American President, The (1995)   \n",
       "11       12     Dracula: Dead and Loving It (1995)   \n",
       "12       13                           Balto (1995)   \n",
       "13       14                           Nixon (1995)   \n",
       "14       15                Cutthroat Island (1995)   \n",
       "15       16                          Casino (1995)   \n",
       "16       17           Sense and Sensibility (1995)   \n",
       "17       18                      Four Rooms (1995)   \n",
       "18       19  Ace Ventura: When Nature Calls (1995)   \n",
       "19       20                     Money Train (1995)   \n",
       "\n",
       "                           Genre  \n",
       "0    Animation|Children's|Comedy  \n",
       "1   Adventure|Children's|Fantasy  \n",
       "2                 Comedy|Romance  \n",
       "3                   Comedy|Drama  \n",
       "4                         Comedy  \n",
       "5          Action|Crime|Thriller  \n",
       "6                 Comedy|Romance  \n",
       "7           Adventure|Children's  \n",
       "8                         Action  \n",
       "9      Action|Adventure|Thriller  \n",
       "10          Comedy|Drama|Romance  \n",
       "11                 Comedy|Horror  \n",
       "12          Animation|Children's  \n",
       "13                         Drama  \n",
       "14      Action|Adventure|Romance  \n",
       "15                Drama|Thriller  \n",
       "16                 Drama|Romance  \n",
       "17                      Thriller  \n",
       "18                        Comedy  \n",
       "19                        Action  "
      ]
     },
     "execution_count": 11,
     "metadata": {},
     "output_type": "execute_result"
    }
   ],
   "source": [
    "movies.head(20)"
   ]
  },
  {
   "cell_type": "code",
   "execution_count": 12,
   "metadata": {},
   "outputs": [],
   "source": [
    "movies_norm = movies.copy()"
   ]
  },
  {
   "cell_type": "code",
   "execution_count": 13,
   "metadata": {},
   "outputs": [],
   "source": [
    "movies_norm['Title'] = movies_norm['Title'].apply(lambda x: unidecode(x))"
   ]
  },
  {
   "cell_type": "code",
   "execution_count": 14,
   "metadata": {},
   "outputs": [],
   "source": [
    "movies_norm['Genre_List'] = movies_norm['Genre'].apply(lambda x: x.split('|'))"
   ]
  },
  {
   "cell_type": "code",
   "execution_count": 15,
   "metadata": {},
   "outputs": [
    {
     "data": {
      "application/vnd.microsoft.datawrangler.viewer.v0+json": {
       "columns": [
        {
         "name": "index",
         "rawType": "int64",
         "type": "integer"
        },
        {
         "name": "MovieID",
         "rawType": "int64",
         "type": "integer"
        },
        {
         "name": "Title",
         "rawType": "object",
         "type": "string"
        },
        {
         "name": "Genre",
         "rawType": "object",
         "type": "string"
        },
        {
         "name": "Genre_List",
         "rawType": "object",
         "type": "unknown"
        }
       ],
       "conversionMethod": "pd.DataFrame",
       "ref": "b5bd0abe-05a2-4a47-8cfa-051d0925775e",
       "rows": [
        [
         "0",
         "1",
         "Toy Story (1995)",
         "Animation|Children's|Comedy",
         "['Animation', \"Children's\", 'Comedy']"
        ],
        [
         "1",
         "2",
         "Jumanji (1995)",
         "Adventure|Children's|Fantasy",
         "['Adventure', \"Children's\", 'Fantasy']"
        ],
        [
         "2",
         "3",
         "Grumpier Old Men (1995)",
         "Comedy|Romance",
         "['Comedy', 'Romance']"
        ],
        [
         "3",
         "4",
         "Waiting to Exhale (1995)",
         "Comedy|Drama",
         "['Comedy', 'Drama']"
        ],
        [
         "4",
         "5",
         "Father of the Bride Part II (1995)",
         "Comedy",
         "['Comedy']"
        ],
        [
         "5",
         "6",
         "Heat (1995)",
         "Action|Crime|Thriller",
         "['Action', 'Crime', 'Thriller']"
        ],
        [
         "6",
         "7",
         "Sabrina (1995)",
         "Comedy|Romance",
         "['Comedy', 'Romance']"
        ],
        [
         "7",
         "8",
         "Tom and Huck (1995)",
         "Adventure|Children's",
         "['Adventure', \"Children's\"]"
        ],
        [
         "8",
         "9",
         "Sudden Death (1995)",
         "Action",
         "['Action']"
        ],
        [
         "9",
         "10",
         "GoldenEye (1995)",
         "Action|Adventure|Thriller",
         "['Action', 'Adventure', 'Thriller']"
        ]
       ],
       "shape": {
        "columns": 4,
        "rows": 10
       }
      },
      "text/html": [
       "<div>\n",
       "<style scoped>\n",
       "    .dataframe tbody tr th:only-of-type {\n",
       "        vertical-align: middle;\n",
       "    }\n",
       "\n",
       "    .dataframe tbody tr th {\n",
       "        vertical-align: top;\n",
       "    }\n",
       "\n",
       "    .dataframe thead th {\n",
       "        text-align: right;\n",
       "    }\n",
       "</style>\n",
       "<table border=\"1\" class=\"dataframe\">\n",
       "  <thead>\n",
       "    <tr style=\"text-align: right;\">\n",
       "      <th></th>\n",
       "      <th>MovieID</th>\n",
       "      <th>Title</th>\n",
       "      <th>Genre</th>\n",
       "      <th>Genre_List</th>\n",
       "    </tr>\n",
       "  </thead>\n",
       "  <tbody>\n",
       "    <tr>\n",
       "      <th>0</th>\n",
       "      <td>1</td>\n",
       "      <td>Toy Story (1995)</td>\n",
       "      <td>Animation|Children's|Comedy</td>\n",
       "      <td>[Animation, Children's, Comedy]</td>\n",
       "    </tr>\n",
       "    <tr>\n",
       "      <th>1</th>\n",
       "      <td>2</td>\n",
       "      <td>Jumanji (1995)</td>\n",
       "      <td>Adventure|Children's|Fantasy</td>\n",
       "      <td>[Adventure, Children's, Fantasy]</td>\n",
       "    </tr>\n",
       "    <tr>\n",
       "      <th>2</th>\n",
       "      <td>3</td>\n",
       "      <td>Grumpier Old Men (1995)</td>\n",
       "      <td>Comedy|Romance</td>\n",
       "      <td>[Comedy, Romance]</td>\n",
       "    </tr>\n",
       "    <tr>\n",
       "      <th>3</th>\n",
       "      <td>4</td>\n",
       "      <td>Waiting to Exhale (1995)</td>\n",
       "      <td>Comedy|Drama</td>\n",
       "      <td>[Comedy, Drama]</td>\n",
       "    </tr>\n",
       "    <tr>\n",
       "      <th>4</th>\n",
       "      <td>5</td>\n",
       "      <td>Father of the Bride Part II (1995)</td>\n",
       "      <td>Comedy</td>\n",
       "      <td>[Comedy]</td>\n",
       "    </tr>\n",
       "    <tr>\n",
       "      <th>5</th>\n",
       "      <td>6</td>\n",
       "      <td>Heat (1995)</td>\n",
       "      <td>Action|Crime|Thriller</td>\n",
       "      <td>[Action, Crime, Thriller]</td>\n",
       "    </tr>\n",
       "    <tr>\n",
       "      <th>6</th>\n",
       "      <td>7</td>\n",
       "      <td>Sabrina (1995)</td>\n",
       "      <td>Comedy|Romance</td>\n",
       "      <td>[Comedy, Romance]</td>\n",
       "    </tr>\n",
       "    <tr>\n",
       "      <th>7</th>\n",
       "      <td>8</td>\n",
       "      <td>Tom and Huck (1995)</td>\n",
       "      <td>Adventure|Children's</td>\n",
       "      <td>[Adventure, Children's]</td>\n",
       "    </tr>\n",
       "    <tr>\n",
       "      <th>8</th>\n",
       "      <td>9</td>\n",
       "      <td>Sudden Death (1995)</td>\n",
       "      <td>Action</td>\n",
       "      <td>[Action]</td>\n",
       "    </tr>\n",
       "    <tr>\n",
       "      <th>9</th>\n",
       "      <td>10</td>\n",
       "      <td>GoldenEye (1995)</td>\n",
       "      <td>Action|Adventure|Thriller</td>\n",
       "      <td>[Action, Adventure, Thriller]</td>\n",
       "    </tr>\n",
       "  </tbody>\n",
       "</table>\n",
       "</div>"
      ],
      "text/plain": [
       "   MovieID                               Title                         Genre  \\\n",
       "0        1                    Toy Story (1995)   Animation|Children's|Comedy   \n",
       "1        2                      Jumanji (1995)  Adventure|Children's|Fantasy   \n",
       "2        3             Grumpier Old Men (1995)                Comedy|Romance   \n",
       "3        4            Waiting to Exhale (1995)                  Comedy|Drama   \n",
       "4        5  Father of the Bride Part II (1995)                        Comedy   \n",
       "5        6                         Heat (1995)         Action|Crime|Thriller   \n",
       "6        7                      Sabrina (1995)                Comedy|Romance   \n",
       "7        8                 Tom and Huck (1995)          Adventure|Children's   \n",
       "8        9                 Sudden Death (1995)                        Action   \n",
       "9       10                    GoldenEye (1995)     Action|Adventure|Thriller   \n",
       "\n",
       "                         Genre_List  \n",
       "0   [Animation, Children's, Comedy]  \n",
       "1  [Adventure, Children's, Fantasy]  \n",
       "2                 [Comedy, Romance]  \n",
       "3                   [Comedy, Drama]  \n",
       "4                          [Comedy]  \n",
       "5         [Action, Crime, Thriller]  \n",
       "6                 [Comedy, Romance]  \n",
       "7           [Adventure, Children's]  \n",
       "8                          [Action]  \n",
       "9     [Action, Adventure, Thriller]  "
      ]
     },
     "execution_count": 15,
     "metadata": {},
     "output_type": "execute_result"
    }
   ],
   "source": [
    "movies_norm.head(10)"
   ]
  },
  {
   "cell_type": "code",
   "execution_count": 17,
   "metadata": {},
   "outputs": [],
   "source": [
    "num_movies = movies_norm['MovieID'].nunique()"
   ]
  },
  {
   "cell_type": "code",
   "execution_count": 18,
   "metadata": {},
   "outputs": [],
   "source": [
    "users = pd.read_csv(\"./ml-1m/users.dat\", sep=\"::\", engine=\"python\",\n",
    "                    header=None, names=['UserID','Gender','Age','Occupation','Zip-code'])"
   ]
  },
  {
   "cell_type": "code",
   "execution_count": 19,
   "metadata": {},
   "outputs": [
    {
     "data": {
      "application/vnd.microsoft.datawrangler.viewer.v0+json": {
       "columns": [
        {
         "name": "index",
         "rawType": "int64",
         "type": "integer"
        },
        {
         "name": "UserID",
         "rawType": "int64",
         "type": "integer"
        },
        {
         "name": "Gender",
         "rawType": "object",
         "type": "string"
        },
        {
         "name": "Age",
         "rawType": "int64",
         "type": "integer"
        },
        {
         "name": "Occupation",
         "rawType": "int64",
         "type": "integer"
        },
        {
         "name": "Zip-code",
         "rawType": "object",
         "type": "string"
        }
       ],
       "conversionMethod": "pd.DataFrame",
       "ref": "56295c58-fc35-4d00-8101-d5defafa4a1d",
       "rows": [
        [
         "0",
         "1",
         "F",
         "1",
         "10",
         "48067"
        ],
        [
         "1",
         "2",
         "M",
         "56",
         "16",
         "70072"
        ],
        [
         "2",
         "3",
         "M",
         "25",
         "15",
         "55117"
        ],
        [
         "3",
         "4",
         "M",
         "45",
         "7",
         "02460"
        ],
        [
         "4",
         "5",
         "M",
         "25",
         "20",
         "55455"
        ],
        [
         "5",
         "6",
         "F",
         "50",
         "9",
         "55117"
        ],
        [
         "6",
         "7",
         "M",
         "35",
         "1",
         "06810"
        ],
        [
         "7",
         "8",
         "M",
         "25",
         "12",
         "11413"
        ],
        [
         "8",
         "9",
         "M",
         "25",
         "17",
         "61614"
        ],
        [
         "9",
         "10",
         "F",
         "35",
         "1",
         "95370"
        ]
       ],
       "shape": {
        "columns": 5,
        "rows": 10
       }
      },
      "text/html": [
       "<div>\n",
       "<style scoped>\n",
       "    .dataframe tbody tr th:only-of-type {\n",
       "        vertical-align: middle;\n",
       "    }\n",
       "\n",
       "    .dataframe tbody tr th {\n",
       "        vertical-align: top;\n",
       "    }\n",
       "\n",
       "    .dataframe thead th {\n",
       "        text-align: right;\n",
       "    }\n",
       "</style>\n",
       "<table border=\"1\" class=\"dataframe\">\n",
       "  <thead>\n",
       "    <tr style=\"text-align: right;\">\n",
       "      <th></th>\n",
       "      <th>UserID</th>\n",
       "      <th>Gender</th>\n",
       "      <th>Age</th>\n",
       "      <th>Occupation</th>\n",
       "      <th>Zip-code</th>\n",
       "    </tr>\n",
       "  </thead>\n",
       "  <tbody>\n",
       "    <tr>\n",
       "      <th>0</th>\n",
       "      <td>1</td>\n",
       "      <td>F</td>\n",
       "      <td>1</td>\n",
       "      <td>10</td>\n",
       "      <td>48067</td>\n",
       "    </tr>\n",
       "    <tr>\n",
       "      <th>1</th>\n",
       "      <td>2</td>\n",
       "      <td>M</td>\n",
       "      <td>56</td>\n",
       "      <td>16</td>\n",
       "      <td>70072</td>\n",
       "    </tr>\n",
       "    <tr>\n",
       "      <th>2</th>\n",
       "      <td>3</td>\n",
       "      <td>M</td>\n",
       "      <td>25</td>\n",
       "      <td>15</td>\n",
       "      <td>55117</td>\n",
       "    </tr>\n",
       "    <tr>\n",
       "      <th>3</th>\n",
       "      <td>4</td>\n",
       "      <td>M</td>\n",
       "      <td>45</td>\n",
       "      <td>7</td>\n",
       "      <td>02460</td>\n",
       "    </tr>\n",
       "    <tr>\n",
       "      <th>4</th>\n",
       "      <td>5</td>\n",
       "      <td>M</td>\n",
       "      <td>25</td>\n",
       "      <td>20</td>\n",
       "      <td>55455</td>\n",
       "    </tr>\n",
       "    <tr>\n",
       "      <th>5</th>\n",
       "      <td>6</td>\n",
       "      <td>F</td>\n",
       "      <td>50</td>\n",
       "      <td>9</td>\n",
       "      <td>55117</td>\n",
       "    </tr>\n",
       "    <tr>\n",
       "      <th>6</th>\n",
       "      <td>7</td>\n",
       "      <td>M</td>\n",
       "      <td>35</td>\n",
       "      <td>1</td>\n",
       "      <td>06810</td>\n",
       "    </tr>\n",
       "    <tr>\n",
       "      <th>7</th>\n",
       "      <td>8</td>\n",
       "      <td>M</td>\n",
       "      <td>25</td>\n",
       "      <td>12</td>\n",
       "      <td>11413</td>\n",
       "    </tr>\n",
       "    <tr>\n",
       "      <th>8</th>\n",
       "      <td>9</td>\n",
       "      <td>M</td>\n",
       "      <td>25</td>\n",
       "      <td>17</td>\n",
       "      <td>61614</td>\n",
       "    </tr>\n",
       "    <tr>\n",
       "      <th>9</th>\n",
       "      <td>10</td>\n",
       "      <td>F</td>\n",
       "      <td>35</td>\n",
       "      <td>1</td>\n",
       "      <td>95370</td>\n",
       "    </tr>\n",
       "  </tbody>\n",
       "</table>\n",
       "</div>"
      ],
      "text/plain": [
       "   UserID Gender  Age  Occupation Zip-code\n",
       "0       1      F    1          10    48067\n",
       "1       2      M   56          16    70072\n",
       "2       3      M   25          15    55117\n",
       "3       4      M   45           7    02460\n",
       "4       5      M   25          20    55455\n",
       "5       6      F   50           9    55117\n",
       "6       7      M   35           1    06810\n",
       "7       8      M   25          12    11413\n",
       "8       9      M   25          17    61614\n",
       "9      10      F   35           1    95370"
      ]
     },
     "execution_count": 19,
     "metadata": {},
     "output_type": "execute_result"
    }
   ],
   "source": [
    "users.head(10)"
   ]
  },
  {
   "cell_type": "code",
   "execution_count": 20,
   "metadata": {},
   "outputs": [],
   "source": [
    "num_users = users['UserID'].nunique()"
   ]
  },
  {
   "cell_type": "code",
   "execution_count": 12,
   "metadata": {},
   "outputs": [],
   "source": [
    "movies_ratings = pd.merge(ratings,movies, on=\"MovieID\", how=\"outer\")"
   ]
  },
  {
   "cell_type": "code",
   "execution_count": 13,
   "metadata": {},
   "outputs": [
    {
     "data": {
      "application/vnd.microsoft.datawrangler.viewer.v0+json": {
       "columns": [
        {
         "name": "index",
         "rawType": "int64",
         "type": "integer"
        },
        {
         "name": "UserID",
         "rawType": "float64",
         "type": "float"
        },
        {
         "name": "MovieID",
         "rawType": "int64",
         "type": "integer"
        },
        {
         "name": "Rating",
         "rawType": "float64",
         "type": "float"
        },
        {
         "name": "Timestamp",
         "rawType": "float64",
         "type": "float"
        },
        {
         "name": "Title",
         "rawType": "object",
         "type": "string"
        },
        {
         "name": "Genre",
         "rawType": "object",
         "type": "string"
        }
       ],
       "conversionMethod": "pd.DataFrame",
       "ref": "1402a799-7384-4433-96e9-e35d0a1f23e3",
       "rows": [
        [
         "0",
         "1.0",
         "1",
         "5.0",
         "978824268.0",
         "Toy Story (1995)",
         "Animation|Children's|Comedy"
        ],
        [
         "1",
         "6.0",
         "1",
         "4.0",
         "978237008.0",
         "Toy Story (1995)",
         "Animation|Children's|Comedy"
        ],
        [
         "2",
         "8.0",
         "1",
         "4.0",
         "978233496.0",
         "Toy Story (1995)",
         "Animation|Children's|Comedy"
        ],
        [
         "3",
         "9.0",
         "1",
         "5.0",
         "978225952.0",
         "Toy Story (1995)",
         "Animation|Children's|Comedy"
        ],
        [
         "4",
         "10.0",
         "1",
         "5.0",
         "978226474.0",
         "Toy Story (1995)",
         "Animation|Children's|Comedy"
        ],
        [
         "5",
         "18.0",
         "1",
         "4.0",
         "978154768.0",
         "Toy Story (1995)",
         "Animation|Children's|Comedy"
        ],
        [
         "6",
         "19.0",
         "1",
         "5.0",
         "978555994.0",
         "Toy Story (1995)",
         "Animation|Children's|Comedy"
        ],
        [
         "7",
         "21.0",
         "1",
         "3.0",
         "978139347.0",
         "Toy Story (1995)",
         "Animation|Children's|Comedy"
        ],
        [
         "8",
         "23.0",
         "1",
         "4.0",
         "978463614.0",
         "Toy Story (1995)",
         "Animation|Children's|Comedy"
        ],
        [
         "9",
         "26.0",
         "1",
         "3.0",
         "978130703.0",
         "Toy Story (1995)",
         "Animation|Children's|Comedy"
        ]
       ],
       "shape": {
        "columns": 6,
        "rows": 10
       }
      },
      "text/html": [
       "<div>\n",
       "<style scoped>\n",
       "    .dataframe tbody tr th:only-of-type {\n",
       "        vertical-align: middle;\n",
       "    }\n",
       "\n",
       "    .dataframe tbody tr th {\n",
       "        vertical-align: top;\n",
       "    }\n",
       "\n",
       "    .dataframe thead th {\n",
       "        text-align: right;\n",
       "    }\n",
       "</style>\n",
       "<table border=\"1\" class=\"dataframe\">\n",
       "  <thead>\n",
       "    <tr style=\"text-align: right;\">\n",
       "      <th></th>\n",
       "      <th>UserID</th>\n",
       "      <th>MovieID</th>\n",
       "      <th>Rating</th>\n",
       "      <th>Timestamp</th>\n",
       "      <th>Title</th>\n",
       "      <th>Genre</th>\n",
       "    </tr>\n",
       "  </thead>\n",
       "  <tbody>\n",
       "    <tr>\n",
       "      <th>0</th>\n",
       "      <td>1.0</td>\n",
       "      <td>1</td>\n",
       "      <td>5.0</td>\n",
       "      <td>978824268.0</td>\n",
       "      <td>Toy Story (1995)</td>\n",
       "      <td>Animation|Children's|Comedy</td>\n",
       "    </tr>\n",
       "    <tr>\n",
       "      <th>1</th>\n",
       "      <td>6.0</td>\n",
       "      <td>1</td>\n",
       "      <td>4.0</td>\n",
       "      <td>978237008.0</td>\n",
       "      <td>Toy Story (1995)</td>\n",
       "      <td>Animation|Children's|Comedy</td>\n",
       "    </tr>\n",
       "    <tr>\n",
       "      <th>2</th>\n",
       "      <td>8.0</td>\n",
       "      <td>1</td>\n",
       "      <td>4.0</td>\n",
       "      <td>978233496.0</td>\n",
       "      <td>Toy Story (1995)</td>\n",
       "      <td>Animation|Children's|Comedy</td>\n",
       "    </tr>\n",
       "    <tr>\n",
       "      <th>3</th>\n",
       "      <td>9.0</td>\n",
       "      <td>1</td>\n",
       "      <td>5.0</td>\n",
       "      <td>978225952.0</td>\n",
       "      <td>Toy Story (1995)</td>\n",
       "      <td>Animation|Children's|Comedy</td>\n",
       "    </tr>\n",
       "    <tr>\n",
       "      <th>4</th>\n",
       "      <td>10.0</td>\n",
       "      <td>1</td>\n",
       "      <td>5.0</td>\n",
       "      <td>978226474.0</td>\n",
       "      <td>Toy Story (1995)</td>\n",
       "      <td>Animation|Children's|Comedy</td>\n",
       "    </tr>\n",
       "    <tr>\n",
       "      <th>5</th>\n",
       "      <td>18.0</td>\n",
       "      <td>1</td>\n",
       "      <td>4.0</td>\n",
       "      <td>978154768.0</td>\n",
       "      <td>Toy Story (1995)</td>\n",
       "      <td>Animation|Children's|Comedy</td>\n",
       "    </tr>\n",
       "    <tr>\n",
       "      <th>6</th>\n",
       "      <td>19.0</td>\n",
       "      <td>1</td>\n",
       "      <td>5.0</td>\n",
       "      <td>978555994.0</td>\n",
       "      <td>Toy Story (1995)</td>\n",
       "      <td>Animation|Children's|Comedy</td>\n",
       "    </tr>\n",
       "    <tr>\n",
       "      <th>7</th>\n",
       "      <td>21.0</td>\n",
       "      <td>1</td>\n",
       "      <td>3.0</td>\n",
       "      <td>978139347.0</td>\n",
       "      <td>Toy Story (1995)</td>\n",
       "      <td>Animation|Children's|Comedy</td>\n",
       "    </tr>\n",
       "    <tr>\n",
       "      <th>8</th>\n",
       "      <td>23.0</td>\n",
       "      <td>1</td>\n",
       "      <td>4.0</td>\n",
       "      <td>978463614.0</td>\n",
       "      <td>Toy Story (1995)</td>\n",
       "      <td>Animation|Children's|Comedy</td>\n",
       "    </tr>\n",
       "    <tr>\n",
       "      <th>9</th>\n",
       "      <td>26.0</td>\n",
       "      <td>1</td>\n",
       "      <td>3.0</td>\n",
       "      <td>978130703.0</td>\n",
       "      <td>Toy Story (1995)</td>\n",
       "      <td>Animation|Children's|Comedy</td>\n",
       "    </tr>\n",
       "  </tbody>\n",
       "</table>\n",
       "</div>"
      ],
      "text/plain": [
       "   UserID  MovieID  Rating    Timestamp             Title  \\\n",
       "0     1.0        1     5.0  978824268.0  Toy Story (1995)   \n",
       "1     6.0        1     4.0  978237008.0  Toy Story (1995)   \n",
       "2     8.0        1     4.0  978233496.0  Toy Story (1995)   \n",
       "3     9.0        1     5.0  978225952.0  Toy Story (1995)   \n",
       "4    10.0        1     5.0  978226474.0  Toy Story (1995)   \n",
       "5    18.0        1     4.0  978154768.0  Toy Story (1995)   \n",
       "6    19.0        1     5.0  978555994.0  Toy Story (1995)   \n",
       "7    21.0        1     3.0  978139347.0  Toy Story (1995)   \n",
       "8    23.0        1     4.0  978463614.0  Toy Story (1995)   \n",
       "9    26.0        1     3.0  978130703.0  Toy Story (1995)   \n",
       "\n",
       "                         Genre  \n",
       "0  Animation|Children's|Comedy  \n",
       "1  Animation|Children's|Comedy  \n",
       "2  Animation|Children's|Comedy  \n",
       "3  Animation|Children's|Comedy  \n",
       "4  Animation|Children's|Comedy  \n",
       "5  Animation|Children's|Comedy  \n",
       "6  Animation|Children's|Comedy  \n",
       "7  Animation|Children's|Comedy  \n",
       "8  Animation|Children's|Comedy  \n",
       "9  Animation|Children's|Comedy  "
      ]
     },
     "execution_count": 13,
     "metadata": {},
     "output_type": "execute_result"
    }
   ],
   "source": [
    "movies_ratings.head(10)"
   ]
  },
  {
   "cell_type": "code",
   "execution_count": 14,
   "metadata": {},
   "outputs": [],
   "source": [
    "complete_df = pd.merge(movies_ratings, users, on=\"UserID\", how=\"outer\")"
   ]
  },
  {
   "cell_type": "code",
   "execution_count": 15,
   "metadata": {},
   "outputs": [
    {
     "data": {
      "application/vnd.microsoft.datawrangler.viewer.v0+json": {
       "columns": [
        {
         "name": "index",
         "rawType": "int64",
         "type": "integer"
        },
        {
         "name": "UserID",
         "rawType": "float64",
         "type": "float"
        },
        {
         "name": "MovieID",
         "rawType": "int64",
         "type": "integer"
        },
        {
         "name": "Rating",
         "rawType": "float64",
         "type": "float"
        },
        {
         "name": "Timestamp",
         "rawType": "float64",
         "type": "float"
        },
        {
         "name": "Title",
         "rawType": "object",
         "type": "string"
        },
        {
         "name": "Genre",
         "rawType": "object",
         "type": "string"
        },
        {
         "name": "Gender",
         "rawType": "object",
         "type": "string"
        },
        {
         "name": "Age",
         "rawType": "float64",
         "type": "float"
        },
        {
         "name": "Occupation",
         "rawType": "float64",
         "type": "float"
        },
        {
         "name": "Zip-code",
         "rawType": "object",
         "type": "string"
        }
       ],
       "conversionMethod": "pd.DataFrame",
       "ref": "59646f04-4268-4a6f-b0cd-f6cbcc3ed97e",
       "rows": [
        [
         "0",
         "1.0",
         "1",
         "5.0",
         "978824268.0",
         "Toy Story (1995)",
         "Animation|Children's|Comedy",
         "F",
         "1.0",
         "10.0",
         "48067"
        ],
        [
         "1",
         "1.0",
         "48",
         "5.0",
         "978824351.0",
         "Pocahontas (1995)",
         "Animation|Children's|Musical|Romance",
         "F",
         "1.0",
         "10.0",
         "48067"
        ],
        [
         "2",
         "1.0",
         "150",
         "5.0",
         "978301777.0",
         "Apollo 13 (1995)",
         "Drama",
         "F",
         "1.0",
         "10.0",
         "48067"
        ],
        [
         "3",
         "1.0",
         "260",
         "4.0",
         "978300760.0",
         "Star Wars: Episode IV - A New Hope (1977)",
         "Action|Adventure|Fantasy|Sci-Fi",
         "F",
         "1.0",
         "10.0",
         "48067"
        ],
        [
         "4",
         "1.0",
         "527",
         "5.0",
         "978824195.0",
         "Schindler's List (1993)",
         "Drama|War",
         "F",
         "1.0",
         "10.0",
         "48067"
        ],
        [
         "5",
         "1.0",
         "531",
         "4.0",
         "978302149.0",
         "Secret Garden, The (1993)",
         "Children's|Drama",
         "F",
         "1.0",
         "10.0",
         "48067"
        ],
        [
         "6",
         "1.0",
         "588",
         "4.0",
         "978824268.0",
         "Aladdin (1992)",
         "Animation|Children's|Comedy|Musical",
         "F",
         "1.0",
         "10.0",
         "48067"
        ],
        [
         "7",
         "1.0",
         "594",
         "4.0",
         "978302268.0",
         "Snow White and the Seven Dwarfs (1937)",
         "Animation|Children's|Musical",
         "F",
         "1.0",
         "10.0",
         "48067"
        ],
        [
         "8",
         "1.0",
         "595",
         "5.0",
         "978824268.0",
         "Beauty and the Beast (1991)",
         "Animation|Children's|Musical",
         "F",
         "1.0",
         "10.0",
         "48067"
        ],
        [
         "9",
         "1.0",
         "608",
         "4.0",
         "978301398.0",
         "Fargo (1996)",
         "Crime|Drama|Thriller",
         "F",
         "1.0",
         "10.0",
         "48067"
        ]
       ],
       "shape": {
        "columns": 10,
        "rows": 10
       }
      },
      "text/html": [
       "<div>\n",
       "<style scoped>\n",
       "    .dataframe tbody tr th:only-of-type {\n",
       "        vertical-align: middle;\n",
       "    }\n",
       "\n",
       "    .dataframe tbody tr th {\n",
       "        vertical-align: top;\n",
       "    }\n",
       "\n",
       "    .dataframe thead th {\n",
       "        text-align: right;\n",
       "    }\n",
       "</style>\n",
       "<table border=\"1\" class=\"dataframe\">\n",
       "  <thead>\n",
       "    <tr style=\"text-align: right;\">\n",
       "      <th></th>\n",
       "      <th>UserID</th>\n",
       "      <th>MovieID</th>\n",
       "      <th>Rating</th>\n",
       "      <th>Timestamp</th>\n",
       "      <th>Title</th>\n",
       "      <th>Genre</th>\n",
       "      <th>Gender</th>\n",
       "      <th>Age</th>\n",
       "      <th>Occupation</th>\n",
       "      <th>Zip-code</th>\n",
       "    </tr>\n",
       "  </thead>\n",
       "  <tbody>\n",
       "    <tr>\n",
       "      <th>0</th>\n",
       "      <td>1.0</td>\n",
       "      <td>1</td>\n",
       "      <td>5.0</td>\n",
       "      <td>978824268.0</td>\n",
       "      <td>Toy Story (1995)</td>\n",
       "      <td>Animation|Children's|Comedy</td>\n",
       "      <td>F</td>\n",
       "      <td>1.0</td>\n",
       "      <td>10.0</td>\n",
       "      <td>48067</td>\n",
       "    </tr>\n",
       "    <tr>\n",
       "      <th>1</th>\n",
       "      <td>1.0</td>\n",
       "      <td>48</td>\n",
       "      <td>5.0</td>\n",
       "      <td>978824351.0</td>\n",
       "      <td>Pocahontas (1995)</td>\n",
       "      <td>Animation|Children's|Musical|Romance</td>\n",
       "      <td>F</td>\n",
       "      <td>1.0</td>\n",
       "      <td>10.0</td>\n",
       "      <td>48067</td>\n",
       "    </tr>\n",
       "    <tr>\n",
       "      <th>2</th>\n",
       "      <td>1.0</td>\n",
       "      <td>150</td>\n",
       "      <td>5.0</td>\n",
       "      <td>978301777.0</td>\n",
       "      <td>Apollo 13 (1995)</td>\n",
       "      <td>Drama</td>\n",
       "      <td>F</td>\n",
       "      <td>1.0</td>\n",
       "      <td>10.0</td>\n",
       "      <td>48067</td>\n",
       "    </tr>\n",
       "    <tr>\n",
       "      <th>3</th>\n",
       "      <td>1.0</td>\n",
       "      <td>260</td>\n",
       "      <td>4.0</td>\n",
       "      <td>978300760.0</td>\n",
       "      <td>Star Wars: Episode IV - A New Hope (1977)</td>\n",
       "      <td>Action|Adventure|Fantasy|Sci-Fi</td>\n",
       "      <td>F</td>\n",
       "      <td>1.0</td>\n",
       "      <td>10.0</td>\n",
       "      <td>48067</td>\n",
       "    </tr>\n",
       "    <tr>\n",
       "      <th>4</th>\n",
       "      <td>1.0</td>\n",
       "      <td>527</td>\n",
       "      <td>5.0</td>\n",
       "      <td>978824195.0</td>\n",
       "      <td>Schindler's List (1993)</td>\n",
       "      <td>Drama|War</td>\n",
       "      <td>F</td>\n",
       "      <td>1.0</td>\n",
       "      <td>10.0</td>\n",
       "      <td>48067</td>\n",
       "    </tr>\n",
       "    <tr>\n",
       "      <th>5</th>\n",
       "      <td>1.0</td>\n",
       "      <td>531</td>\n",
       "      <td>4.0</td>\n",
       "      <td>978302149.0</td>\n",
       "      <td>Secret Garden, The (1993)</td>\n",
       "      <td>Children's|Drama</td>\n",
       "      <td>F</td>\n",
       "      <td>1.0</td>\n",
       "      <td>10.0</td>\n",
       "      <td>48067</td>\n",
       "    </tr>\n",
       "    <tr>\n",
       "      <th>6</th>\n",
       "      <td>1.0</td>\n",
       "      <td>588</td>\n",
       "      <td>4.0</td>\n",
       "      <td>978824268.0</td>\n",
       "      <td>Aladdin (1992)</td>\n",
       "      <td>Animation|Children's|Comedy|Musical</td>\n",
       "      <td>F</td>\n",
       "      <td>1.0</td>\n",
       "      <td>10.0</td>\n",
       "      <td>48067</td>\n",
       "    </tr>\n",
       "    <tr>\n",
       "      <th>7</th>\n",
       "      <td>1.0</td>\n",
       "      <td>594</td>\n",
       "      <td>4.0</td>\n",
       "      <td>978302268.0</td>\n",
       "      <td>Snow White and the Seven Dwarfs (1937)</td>\n",
       "      <td>Animation|Children's|Musical</td>\n",
       "      <td>F</td>\n",
       "      <td>1.0</td>\n",
       "      <td>10.0</td>\n",
       "      <td>48067</td>\n",
       "    </tr>\n",
       "    <tr>\n",
       "      <th>8</th>\n",
       "      <td>1.0</td>\n",
       "      <td>595</td>\n",
       "      <td>5.0</td>\n",
       "      <td>978824268.0</td>\n",
       "      <td>Beauty and the Beast (1991)</td>\n",
       "      <td>Animation|Children's|Musical</td>\n",
       "      <td>F</td>\n",
       "      <td>1.0</td>\n",
       "      <td>10.0</td>\n",
       "      <td>48067</td>\n",
       "    </tr>\n",
       "    <tr>\n",
       "      <th>9</th>\n",
       "      <td>1.0</td>\n",
       "      <td>608</td>\n",
       "      <td>4.0</td>\n",
       "      <td>978301398.0</td>\n",
       "      <td>Fargo (1996)</td>\n",
       "      <td>Crime|Drama|Thriller</td>\n",
       "      <td>F</td>\n",
       "      <td>1.0</td>\n",
       "      <td>10.0</td>\n",
       "      <td>48067</td>\n",
       "    </tr>\n",
       "  </tbody>\n",
       "</table>\n",
       "</div>"
      ],
      "text/plain": [
       "   UserID  MovieID  Rating    Timestamp  \\\n",
       "0     1.0        1     5.0  978824268.0   \n",
       "1     1.0       48     5.0  978824351.0   \n",
       "2     1.0      150     5.0  978301777.0   \n",
       "3     1.0      260     4.0  978300760.0   \n",
       "4     1.0      527     5.0  978824195.0   \n",
       "5     1.0      531     4.0  978302149.0   \n",
       "6     1.0      588     4.0  978824268.0   \n",
       "7     1.0      594     4.0  978302268.0   \n",
       "8     1.0      595     5.0  978824268.0   \n",
       "9     1.0      608     4.0  978301398.0   \n",
       "\n",
       "                                       Title  \\\n",
       "0                           Toy Story (1995)   \n",
       "1                          Pocahontas (1995)   \n",
       "2                           Apollo 13 (1995)   \n",
       "3  Star Wars: Episode IV - A New Hope (1977)   \n",
       "4                    Schindler's List (1993)   \n",
       "5                  Secret Garden, The (1993)   \n",
       "6                             Aladdin (1992)   \n",
       "7     Snow White and the Seven Dwarfs (1937)   \n",
       "8                Beauty and the Beast (1991)   \n",
       "9                               Fargo (1996)   \n",
       "\n",
       "                                  Genre Gender  Age  Occupation Zip-code  \n",
       "0           Animation|Children's|Comedy      F  1.0        10.0    48067  \n",
       "1  Animation|Children's|Musical|Romance      F  1.0        10.0    48067  \n",
       "2                                 Drama      F  1.0        10.0    48067  \n",
       "3       Action|Adventure|Fantasy|Sci-Fi      F  1.0        10.0    48067  \n",
       "4                             Drama|War      F  1.0        10.0    48067  \n",
       "5                      Children's|Drama      F  1.0        10.0    48067  \n",
       "6   Animation|Children's|Comedy|Musical      F  1.0        10.0    48067  \n",
       "7          Animation|Children's|Musical      F  1.0        10.0    48067  \n",
       "8          Animation|Children's|Musical      F  1.0        10.0    48067  \n",
       "9                  Crime|Drama|Thriller      F  1.0        10.0    48067  "
      ]
     },
     "execution_count": 15,
     "metadata": {},
     "output_type": "execute_result"
    }
   ],
   "source": [
    "complete_df.head(10)"
   ]
  },
  {
   "attachments": {},
   "cell_type": "markdown",
   "metadata": {},
   "source": [
    "# Train / Test / Validation Split"
   ]
  },
  {
   "cell_type": "code",
   "execution_count": 21,
   "metadata": {},
   "outputs": [],
   "source": [
    "def leave_one_out_split(df):\n",
    "    # For each user, select the last interaction as test data.\n",
    "    df = df.sort_values(['UserID', 'Timestamp'])\n",
    "    test_list = df.groupby('UserID').tail(1)\n",
    "    train_df = df.drop(test_list.index)\n",
    "    return train_df, test_list"
   ]
  },
  {
   "cell_type": "code",
   "execution_count": 22,
   "metadata": {},
   "outputs": [
    {
     "name": "stdout",
     "output_type": "stream",
     "text": [
      "Train+Validation samples: 994169\n",
      "Test samples: 6040\n"
     ]
    }
   ],
   "source": [
    "train_ratings_full, test_ratings = leave_one_out_split(ratings)\n",
    "print(\"Train+Validation samples:\", len(train_ratings_full))\n",
    "print(\"Test samples:\", len(test_ratings))"
   ]
  },
  {
   "cell_type": "code",
   "execution_count": 23,
   "metadata": {},
   "outputs": [],
   "source": [
    "def stratified_train_val_split(df, val_frac=0.1, seed=42):\n",
    "    train_idx = []\n",
    "    val_idx = []\n",
    "    np.random.seed(seed)\n",
    "    # Group by user and sample indices for validation per user.\n",
    "    for user, group in df.groupby('UserID'):\n",
    "        indices = group.index.tolist()\n",
    "        n_val = int(np.ceil(len(indices) * val_frac))\n",
    "        val_indices = np.random.choice(indices, size=n_val, replace=False)\n",
    "        train_indices = list(set(indices) - set(val_indices))\n",
    "        train_idx.extend(train_indices)\n",
    "        val_idx.extend(val_indices)\n",
    "    # Return DataFrames for train and validation splits.\n",
    "    train_df = df.loc[train_idx].reset_index(drop=True)\n",
    "    val_df = df.loc[val_idx].reset_index(drop=True)\n",
    "    return train_df, val_df"
   ]
  },
  {
   "cell_type": "code",
   "execution_count": 24,
   "metadata": {},
   "outputs": [],
   "source": [
    "train_ratings, val_ratings = stratified_train_val_split(train_ratings_full, val_frac=0.1)"
   ]
  },
  {
   "cell_type": "code",
   "execution_count": 25,
   "metadata": {},
   "outputs": [
    {
     "name": "stdout",
     "output_type": "stream",
     "text": [
      "Train samples: 892037\n",
      "Validation samples: 102132\n"
     ]
    }
   ],
   "source": [
    "print(\"Train samples:\", len(train_ratings))\n",
    "print(\"Validation samples:\", len(val_ratings))"
   ]
  },
  {
   "cell_type": "code",
   "execution_count": 16,
   "metadata": {},
   "outputs": [],
   "source": [
    "def build_user_positive_dict(df):\n",
    "    return df.groupby('UserID')['MovieID'].apply(set).to_dict()"
   ]
  },
  {
   "cell_type": "code",
   "execution_count": 26,
   "metadata": {},
   "outputs": [],
   "source": [
    "user_positive_train = build_user_positive_dict(train_ratings)"
   ]
  },
  {
   "cell_type": "markdown",
   "metadata": {},
   "source": [
    "### Negative Sampling of the dataset"
   ]
  },
  {
   "cell_type": "code",
   "execution_count": null,
   "metadata": {},
   "outputs": [],
   "source": [
    "# -------------------------\n",
    "# 4. Custom Dataset with Negative Sampling\n",
    "# -------------------------\n",
    "\n",
    "class MovieLensDatasetWithNegatives(Dataset):\n",
    "    def __init__(self, df, user_positive, num_movies, num_negatives=4):\n",
    "        \"\"\"\n",
    "        df: DataFrame with positive interactions.\n",
    "        user_positive: Dictionary mapping user_id -> set of positive movie_ids.\n",
    "        num_movies: Total number of movies.\n",
    "        num_negatives: Number of negative samples to generate per positive instance.\n",
    "        \"\"\"\n",
    "        self.df = df.reset_index(drop=True)\n",
    "        self.user_positive = user_positive\n",
    "        self.num_movies = num_movies\n",
    "        self.num_negatives = num_negatives\n",
    "        \n",
    "    def __len__(self):\n",
    "        return len(self.df)\n",
    "    \n",
    "    def __getitem__(self, idx):\n",
    "        # Get the positive sample.\n",
    "        user_id = int(self.df.loc[idx, 'UserID'])\n",
    "        pos_movie_id = int(self.df.loc[idx, 'MovieID'])\n",
    "        \n",
    "        # Start with the positive sample.\n",
    "        samples = [(user_id, pos_movie_id, 1)]\n",
    "        \n",
    "        # Generate negative samples for this user.\n",
    "        for _ in range(self.num_negatives):\n",
    "            neg_movie_id = random.randint(0, self.num_movies - 1)\n",
    "            while neg_movie_id in self.user_positive.get(user_id, set()):\n",
    "                neg_movie_id = random.randint(0, self.num_movies - 1)\n",
    "            samples.append((user_id, neg_movie_id, 0))\n",
    "        \n",
    "        # Return all samples (positive + negatives) for this positive instance.\n",
    "        return samples"
   ]
  },
  {
   "cell_type": "code",
   "execution_count": null,
   "metadata": {},
   "outputs": [],
   "source": [
    "# A collate function to flatten batches since __getitem__ returns a list of samples.\n",
    "def collate_fn(batch):\n",
    "    # batch is a list of lists (each element is a list of (user, movie, label) tuples)\n",
    "    flat_batch = [sample for sublist in batch for sample in sublist]\n",
    "    user_ids, movie_ids, labels = zip(*flat_batch)\n",
    "    return (torch.LongTensor(user_ids),\n",
    "            torch.LongTensor(movie_ids),\n",
    "            torch.FloatTensor(labels))"
   ]
  },
  {
   "cell_type": "code",
   "execution_count": null,
   "metadata": {},
   "outputs": [],
   "source": [
    "# Create Dataset objects\n",
    "train_dataset = MovieLensDatasetWithNegatives(train_ratings, user_positive_train, num_movies, num_negatives=4)\n",
    "val_dataset = MovieLensDatasetWithNegatives(val_ratings, build_user_positive_dict(val_ratings), num_movies, num_negatives=4)"
   ]
  },
  {
   "cell_type": "code",
   "execution_count": null,
   "metadata": {},
   "outputs": [],
   "source": [
    "# Create DataLoaders\n",
    "batch_size = 256\n",
    "train_loader = DataLoader(train_dataset, batch_size=batch_size, shuffle=True, collate_fn=collate_fn)\n",
    "val_loader = DataLoader(val_dataset, batch_size=batch_size, shuffle=False, collate_fn=collate_fn)\n"
   ]
  },
  {
   "cell_type": "markdown",
   "metadata": {},
   "source": [
    "# Neural Network architecture"
   ]
  },
  {
   "attachments": {},
   "cell_type": "markdown",
   "metadata": {},
   "source": [
    "source: https://arxiv.org/pdf/1708.05031 "
   ]
  },
  {
   "cell_type": "code",
   "execution_count": null,
   "metadata": {},
   "outputs": [],
   "source": [
    "class GMF(nn.Module):\n",
    "    def __init__(self, num_users, num_items, embedding_dim):\n",
    "        super(GMF, self).__init__()\n",
    "        # Embedding layers for users and items\n",
    "        self.user_embedding = nn.Embedding(num_users, embedding_dim)\n",
    "        self.item_embedding = nn.Embedding(num_items, embedding_dim)\n",
    "        # Output layer weight (h) for combining element-wise product\n",
    "        self.h = nn.Parameter(torch.randn(embedding_dim))\n",
    "        # Sigmoid activation to map predictions to [0, 1]\n",
    "        self.sigmoid = nn.Sigmoid()\n",
    "        \n",
    "    def forward(self, user_ids, item_ids):\n",
    "        p_u = self.user_embedding(user_ids)\n",
    "        q_i = self.item_embedding(item_ids)\n",
    "        # Element-wise product\n",
    "        interaction = p_u * q_i  \n",
    "        # Linear combination using the weight vector h\n",
    "        score = torch.sum(interaction * self.h, dim=1)  # Weighted sum\n",
    "        prediction = self.sigmoid(score)     # Map to [0, 1]\n",
    "        return prediction"
   ]
  }
 ],
 "metadata": {
  "kernelspec": {
   "display_name": "deepLearningvenv",
   "language": "python",
   "name": "python3"
  },
  "language_info": {
   "codemirror_mode": {
    "name": "ipython",
    "version": 3
   },
   "file_extension": ".py",
   "mimetype": "text/x-python",
   "name": "python",
   "nbconvert_exporter": "python",
   "pygments_lexer": "ipython3",
   "version": "3.12.3"
  },
  "orig_nbformat": 4
 },
 "nbformat": 4,
 "nbformat_minor": 2
}
